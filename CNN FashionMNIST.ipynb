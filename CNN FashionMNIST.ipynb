{
 "cells": [
  {
   "cell_type": "markdown",
   "metadata": {
    "id": "t5yAXr0WZK1L"
   },
   "source": [
    "# FashionMNIST"
   ]
  },
  {
   "cell_type": "markdown",
   "metadata": {
    "id": "9zBDaFd-af3L"
   },
   "source": [
    "<img src=\"https://emiliendupont.github.io/imgs/mnist-chicken/mnist-and-fashion-examples.png\">"
   ]
  },
  {
   "cell_type": "markdown",
   "metadata": {
    "id": "EQUWMfZRahIO"
   },
   "source": [
    "Будем работать с картинками одежды (чёрно-белыми, 28 на 28). По входной картинке нужно предсказать тип одежды на 10 классов."
   ]
  },
  {
   "cell_type": "code",
   "execution_count": 8,
   "metadata": {},
   "outputs": [
    {
     "name": "stdout",
     "output_type": "stream",
     "text": [
      "Requirement already satisfied: wandb in c:\\users\\dm199\\anaconda3\\lib\\site-packages (0.13.10)\n",
      "Requirement already satisfied: requests<3,>=2.0.0 in c:\\users\\dm199\\anaconda3\\lib\\site-packages (from wandb) (2.26.0)\n",
      "Requirement already satisfied: docker-pycreds>=0.4.0 in c:\\users\\dm199\\anaconda3\\lib\\site-packages (from wandb) (0.4.0)\n",
      "Requirement already satisfied: typing-extensions in c:\\users\\dm199\\anaconda3\\lib\\site-packages (from wandb) (3.10.0.2)\n",
      "Requirement already satisfied: psutil>=5.0.0 in c:\\users\\dm199\\anaconda3\\lib\\site-packages (from wandb) (5.8.0)\n",
      "Requirement already satisfied: setproctitle in c:\\users\\dm199\\anaconda3\\lib\\site-packages (from wandb) (1.3.2)\n",
      "Requirement already satisfied: Click!=8.0.0,>=7.0 in c:\\users\\dm199\\anaconda3\\lib\\site-packages (from wandb) (8.0.3)\n",
      "Requirement already satisfied: protobuf!=4.21.0,<5,>=3.19.0 in c:\\users\\dm199\\anaconda3\\lib\\site-packages (from wandb) (4.22.0)\n",
      "Requirement already satisfied: sentry-sdk>=1.0.0 in c:\\users\\dm199\\anaconda3\\lib\\site-packages (from wandb) (1.16.0)\n",
      "Requirement already satisfied: PyYAML in c:\\users\\dm199\\anaconda3\\lib\\site-packages (from wandb) (6.0)\n",
      "Requirement already satisfied: pathtools in c:\\users\\dm199\\anaconda3\\lib\\site-packages (from wandb) (0.1.2)\n",
      "Requirement already satisfied: setuptools in c:\\users\\dm199\\anaconda3\\lib\\site-packages (from wandb) (58.0.4)\n",
      "Requirement already satisfied: appdirs>=1.4.3 in c:\\users\\dm199\\anaconda3\\lib\\site-packages (from wandb) (1.4.4)\n",
      "Requirement already satisfied: GitPython>=1.0.0 in c:\\users\\dm199\\anaconda3\\lib\\site-packages (from wandb) (3.1.31)\n",
      "Requirement already satisfied: colorama in c:\\users\\dm199\\anaconda3\\lib\\site-packages (from Click!=8.0.0,>=7.0->wandb) (0.4.4)\n",
      "Requirement already satisfied: six>=1.4.0 in c:\\users\\dm199\\anaconda3\\lib\\site-packages (from docker-pycreds>=0.4.0->wandb) (1.16.0)\n",
      "Requirement already satisfied: gitdb<5,>=4.0.1 in c:\\users\\dm199\\anaconda3\\lib\\site-packages (from GitPython>=1.0.0->wandb) (4.0.10)\n",
      "Requirement already satisfied: smmap<6,>=3.0.1 in c:\\users\\dm199\\anaconda3\\lib\\site-packages (from gitdb<5,>=4.0.1->GitPython>=1.0.0->wandb) (5.0.0)\n",
      "Requirement already satisfied: urllib3<1.27,>=1.21.1 in c:\\users\\dm199\\anaconda3\\lib\\site-packages (from requests<3,>=2.0.0->wandb) (1.26.14)\n",
      "Requirement already satisfied: idna<4,>=2.5 in c:\\users\\dm199\\anaconda3\\lib\\site-packages (from requests<3,>=2.0.0->wandb) (3.2)\n",
      "Requirement already satisfied: certifi>=2017.4.17 in c:\\users\\dm199\\anaconda3\\lib\\site-packages (from requests<3,>=2.0.0->wandb) (2021.10.8)\n",
      "Requirement already satisfied: charset-normalizer~=2.0.0 in c:\\users\\dm199\\anaconda3\\lib\\site-packages (from requests<3,>=2.0.0->wandb) (2.0.4)\n"
     ]
    }
   ],
   "source": [
    "!pip install wandb"
   ]
  },
  {
   "cell_type": "code",
   "execution_count": 9,
   "metadata": {
    "colab": {
     "base_uri": "https://localhost:8080/"
    },
    "id": "czUjp5h-SDfg",
    "outputId": "3ada0aab-f8bc-4dbe-a3c9-c448aae96356"
   },
   "outputs": [],
   "source": [
    "# установим последнюю версию wandb\n",
    "!pip install -q --upgrade wandb"
   ]
  },
  {
   "cell_type": "code",
   "execution_count": 10,
   "metadata": {
    "id": "fWtwdJBETKgd"
   },
   "outputs": [],
   "source": [
    "import os\n",
    "import wandb # для логирования\n",
    "\n",
    "import numpy as np\n",
    "import random\n",
    "from tqdm import *\n",
    "\n",
    "import torch\n",
    "import torch.nn as nn\n",
    "import torch.nn.functional as F\n",
    "import torch.optim as optim # для оптимизаторов\n",
    "from torchvision import datasets # для данных\n",
    "import torchvision.transforms as transforms # для преобразований тензоров\n",
    "\n",
    "import matplotlib.pyplot as plt"
   ]
  },
  {
   "cell_type": "code",
   "execution_count": 11,
   "metadata": {
    "id": "act8OGimTclJ"
   },
   "outputs": [],
   "source": [
    "# Зафиксируем seed для воспроизводимости\n",
    "\n",
    "def seed_everything(seed):\n",
    "    random.seed(seed) # фиксируем генератор случайных чисел\n",
    "    os.environ['PYTHONHASHSEED'] = str(seed) # фиксируем заполнения хешей\n",
    "    np.random.seed(seed) # фиксируем генератор случайных чисел numpy\n",
    "    torch.manual_seed(seed) # фиксируем генератор случайных чисел pytorch\n",
    "    torch.cuda.manual_seed(seed) # фиксируем генератор случайных чисел для GPU\n",
    "    #torch.backends.cudnn.deterministic = True # выбираем только детерминированные алгоритмы (для сверток)\n",
    "    #torch.backends.cudnn.benchmark = False # фиксируем алгоритм вычисления сверток"
   ]
  },
  {
   "cell_type": "markdown",
   "metadata": {
    "id": "4Homy1Hda0y_"
   },
   "source": [
    "Выпишем все классы для последующего использования. "
   ]
  },
  {
   "cell_type": "code",
   "execution_count": 12,
   "metadata": {
    "id": "X_ltN5rHTgMe"
   },
   "outputs": [],
   "source": [
    "class CFG:\n",
    "\n",
    "# Задаем параметры нашего эксперимента\n",
    "\n",
    "\n",
    "  project = \"DL_homework\"\n",
    "  entity = \"Google\"#\n",
    "  num_epochs = 10 # количество эпох\n",
    "  train_batch_size = 64 # размер батча обучающей выборки\n",
    "  test_batch_size = 512 # размер батча тестовой выборки\n",
    "  num_workers = 2 # количество активных процессов на загрузку данных\n",
    "  lr = 0.001 # learning_rate\n",
    "  seed = 2022 # для функции воспроизводимости\n",
    "  wandb = False # флаг использования Wandb\n"
   ]
  },
  {
   "cell_type": "code",
   "execution_count": 13,
   "metadata": {
    "id": "xnrD-0AQUpHi"
   },
   "outputs": [],
   "source": [
    "# функция перевода класса конфигурации в словарь\n",
    "\n",
    "def class2dict(f):\n",
    "  return dict((name, getattr(f, name)) for name in dir(f) if not name.startswith('__'))"
   ]
  },
  {
   "cell_type": "markdown",
   "metadata": {
    "id": "JNdiWxT1a836"
   },
   "source": []
  },
  {
   "cell_type": "code",
   "execution_count": 15,
   "metadata": {
    "id": "i4aZMk4qYCzk"
   },
   "outputs": [],
   "source": [
    "# будем загружать картинки, сразу преобразуя их в тензор и нормализуя\n",
    "\n",
    "transform = transforms.Compose(\n",
    "    [transforms.ToTensor(),\n",
    "     transforms.Normalize((0.2859,), (0.3530,))])"
   ]
  },
  {
   "cell_type": "markdown",
   "metadata": {
    "id": "-TtjNYSee01i"
   },
   "source": [
    "Загружаем данные."
   ]
  },
  {
   "cell_type": "code",
   "execution_count": 16,
   "metadata": {
    "colab": {
     "base_uri": "https://localhost:8080/",
     "height": 486,
     "referenced_widgets": [
      "1404586577064ac39c3aca60bc22fdfa",
      "f4353bdca8a84c4cb856a70fb457cb0c",
      "3423293a5e9240a6b06035c4ce1e39e3",
      "53740d0f8ff84d3eaaa47805d29fc185",
      "9502536b161c45f89f0e6dfbac6eede1",
      "afbec42e54fa4012aba3f8053e04dadc",
      "fc8420962cc34f0faebd0d2e4cf83cee",
      "410192f78d3e46bbb8762c35787bf13d",
      "13008e863cfd4a7bb37104a43929c2ec",
      "5eb52c56c3334ac3915aee8616ddedb1",
      "24f3de27786a4c0a96211e98f3f6de21",
      "ad6d1b93d429496abbd7121a4f0b9de6",
      "5d0549499a664bafaf871b0583cd92ca",
      "68fd6008d04e407ea63b2e26fd708d74",
      "847a03d3f0944e65bd3a80a2d1397556",
      "682f74c03e704a08bcd65a497b27765c",
      "6278e2dcc4624374b57a9dc6f8202fa7",
      "66d50b2a1af242e39aa10ee608c14e96",
      "96908fea4073438ab43fddf2e179d57a",
      "c02ffb68b2f54551a7fbd76a3db63ff5",
      "a226aab6a5e14cdeab04c2035cba4067",
      "4981f159d57b45e28ac87127ec93196e",
      "260271b63a2645bfb94690b666a01bc5",
      "f40d574c77b7409495554a60923951d9",
      "ed41341c970c46508970a4edd6846b79",
      "0b0712703cbf4a7084fd2a3cc6af50e7",
      "6d126ed06f1040d784b18b3c8e9cb22d",
      "c3788ca193df4dfab201a225e2b13543",
      "9b6630c18a9e4012b2edbea6a36a8bed",
      "078b58bc74ae462089b5f6f14e7b214a",
      "cad6583d2cfa4456af83644efb902d32",
      "04f3207505394d6a84b619ffeb553c16",
      "2a13e0a9c74346259c543798303bb0bd",
      "f0a4baaaaf4540eba29c36c63f4078ab",
      "b3c299a1f1e04909bbb63b6148551758",
      "a34172bcfa7446139937b71993f636b4",
      "54160fd1c6b64563a9702f5cb01a1e61",
      "c1dc10497897440fa28ab38fb2569303",
      "4f32f08573be44b5901cf1753065c4fe",
      "65fc1f331b6244de96070e8922b2ec56",
      "b20bf379eb784906a7fbcc82d3ca2734",
      "03c69a7a5d12421f9aa500c07e3da3de",
      "781d551e0abd476c9f39a5bb56a2eca3",
      "0ffb5b37baec47378e6a3bc8de48637d"
     ]
    },
    "id": "M8O3KPn-VCK4",
    "outputId": "75824194-c2b7-4d2e-bdb5-a8dea72358c2"
   },
   "outputs": [],
   "source": [
    "train_data = datasets.FashionMNIST(root='data', train=True,\n",
    "                                   download=True, transform=transform)\n",
    "test_data = datasets.FashionMNIST(root='data', train=False,\n",
    "                                  download=True, transform=transform)\n",
    "\n",
    "train_loader = torch.utils.data.DataLoader(train_data, batch_size=CFG.train_batch_size,\n",
    "                                          shuffle=True, num_workers=CFG.num_workers, pin_memory=True)\n",
    "\n",
    "test_loader =  torch.utils.data.DataLoader(test_data, batch_size=CFG.test_batch_size,\n",
    "                                         shuffle=False, num_workers=CFG.num_workers, pin_memory=True)"
   ]
  },
  {
   "cell_type": "code",
   "execution_count": 17,
   "metadata": {},
   "outputs": [],
   "source": [
    "examples = enumerate(train_loader)\n",
    "batch_idx, (example_data, example_targets) = next(examples) # итерируемся по тестовым данным\n"
   ]
  },
  {
   "cell_type": "code",
   "execution_count": 18,
   "metadata": {},
   "outputs": [
    {
     "data": {
      "text/plain": [
       "0"
      ]
     },
     "execution_count": 18,
     "metadata": {},
     "output_type": "execute_result"
    }
   ],
   "source": [
    "batch_idx"
   ]
  },
  {
   "cell_type": "code",
   "execution_count": 19,
   "metadata": {},
   "outputs": [
    {
     "data": {
      "text/plain": [
       "torch.Size([1, 28, 28])"
      ]
     },
     "execution_count": 19,
     "metadata": {},
     "output_type": "execute_result"
    }
   ],
   "source": [
    "example_data[0].shape"
   ]
  },
  {
   "cell_type": "code",
   "execution_count": 20,
   "metadata": {},
   "outputs": [
    {
     "data": {
      "text/plain": [
       "torch.Size([1, 784])"
      ]
     },
     "execution_count": 20,
     "metadata": {},
     "output_type": "execute_result"
    }
   ],
   "source": [
    "example_data[0].view(-1, 28*28).shape"
   ]
  },
  {
   "cell_type": "code",
   "execution_count": 21,
   "metadata": {},
   "outputs": [
    {
     "data": {
      "image/png": "[encoded data removed]",
      "text/plain": [
       "<Figure size 1800x288 with 16 Axes>"
      ]
     },
     "metadata": {},
     "output_type": "display_data"
    }
   ],
   "source": [
    "\n",
    "dataiter = iter(train_loader)\n",
    "images, labels = next(dataiter)\n",
    "images = images.numpy()\n",
    "\n",
    "fig = plt.figure(figsize=(25, 4))\n",
    "for idx in np.arange(16):\n",
    "\n",
    "    plt.subplot(2,8,idx+1)\n",
    "    plt.tight_layout()\n",
    "    plt.imshow(example_data[idx][0], cmap='gray') \n",
    "    \n",
    "    plt.title( 'Класс {}'.format(int(example_targets[idx])))\n",
    "    plt.xticks([])\n",
    "    plt.yticks([])\n",
    "   # plt.figure()"
   ]
  },
  {
   "cell_type": "markdown",
   "metadata": {
    "id": "S2TOF9mHfDSD"
   },
   "source": [
    "Создаем полносвязаннную нейронную сеть. "
   ]
  },
  {
   "cell_type": "code",
   "execution_count": 22,
   "metadata": {
    "id": "CPxbrZdqWq7G"
   },
   "outputs": [],
   "source": [
    "class My_Net(nn.Module): # наследуемся от класса nn.Module\n",
    "\n",
    "    def __init__(self):\n",
    "        super(My_Net,self).__init__()\n",
    "        \n",
    "        # количество нейронов в скрытых слоях (256, 128)\n",
    "        self.hidden_1 = 256\n",
    "        self.hidden_2 = 128\n",
    "        # первый слой (784(=28*28) -> hidden_1)\n",
    "        self.fc1 = nn.Linear(28*28, self.hidden_1) \n",
    "        # второй слой (hidden_1 -> hidden_2)\n",
    "        self.fc2 = nn.Linear(self.hidden_1, self.hidden_2)\n",
    "        # третий (выходной) слой (hidden_2 -> 10 (классов))\n",
    "        self.fc3 = nn.Linear(self.hidden_2, 10)\n",
    "\n",
    "        \n",
    "    def forward(self, x):\n",
    "        # преобразуем батч картинок из (N, 28, 28) в (N, 784)\n",
    "        x = x.view(-1, 28*28)\n",
    "        # добавляем первый скрытый слой с ReLU активацией\n",
    "        x = F.relu(self.fc1(x))\n",
    "        # добавляем второй скрытый слой с ReLU активацией\n",
    "        x = F.relu(self.fc2(x))\n",
    "        # добавляем третий (выходной) слой\n",
    "        x = self.fc3(x)\n",
    "        return x"
   ]
  },
  {
   "cell_type": "code",
   "execution_count": 23,
   "metadata": {
    "colab": {
     "base_uri": "https://localhost:8080/"
    },
    "id": "z6Xd4VKcW2DA",
    "outputId": "c9e9c1e5-80f3-4ea2-a518-fdba94e32562"
   },
   "outputs": [
    {
     "name": "stdout",
     "output_type": "stream",
     "text": [
      "My_Net(\n",
      "  (fc1): Linear(in_features=784, out_features=256, bias=True)\n",
      "  (fc2): Linear(in_features=256, out_features=128, bias=True)\n",
      "  (fc3): Linear(in_features=128, out_features=10, bias=True)\n",
      ")\n"
     ]
    }
   ],
   "source": [
    "model = My_Net()\n",
    "device = torch.device('cuda:0' if torch.cuda.is_available() else 'cpu')\n",
    "model = model.to(device) # переводим модель на GPU\n",
    "print(model) # посмотрим на модель"
   ]
  },
  {
   "cell_type": "code",
   "execution_count": 24,
   "metadata": {
    "id": "7atYx0-FW5-K"
   },
   "outputs": [],
   "source": [
    "# функция потерь (cross-entropy) для 10 классов\n",
    "criterion = nn.CrossEntropyLoss()\n",
    "\n",
    "# SGD (классический) со скоростью обучения (learning rate) = 0.01\n",
    "optimizer = torch.optim.SGD(params=model.parameters(),\n",
    "                           lr=0.01)"
   ]
  },
  {
   "cell_type": "code",
   "execution_count": 25,
   "metadata": {
    "id": "5ow_sFgBW8bm"
   },
   "outputs": [],
   "source": [
    "# функция обучения модели\n",
    "def train(model, device, train_loader, optimizer, criterion, epoch, WANDB):\n",
    "    model.train() # обязательно переводим в режим обучения\n",
    "    test_loss = 0\n",
    "    correct = 0\n",
    "    \n",
    "    n_ex = len(train_loader)\n",
    "    \n",
    "    for batch_idx, (data, target) in tqdm(enumerate(train_loader), total=n_ex):\n",
    "        data, target = data.to(device), target.to(device) # переводим картинки и таргеты на GPU\n",
    "        # обнуляем градиенты!\n",
    "        optimizer.zero_grad()\n",
    "        # прямой проход\n",
    "        output = model(data)\n",
    "        pred = output.argmax(dim=1, keepdim=True)\n",
    "        correct += pred.eq(target.view_as(pred)).sum().item() # определяем корректность предсказания\n",
    "        train_loss = criterion(output, target) # считаем значение функции потерь\n",
    "        # обратный проход\n",
    "        train_loss.backward()\n",
    "        # делаем градиентный шаг оптимизатором\n",
    "        optimizer.step()\n",
    "        # считаем метрики и лосс\n",
    "    tqdm.write('\\nTrain set: Average loss: {:.4f}, Accuracy: {:.0f}%'.format(\n",
    "        train_loss, 100. * correct / len(train_loader.dataset)))\n",
    "    \n",
    "    if WANDB:\n",
    "        wandb.log({'train_loss': train_loss,\n",
    "                   'train_accuracy': correct / len(train_loader.dataset)})"
   ]
  },
  {
   "cell_type": "code",
   "execution_count": 26,
   "metadata": {
    "id": "sxMjlNRZXAW8"
   },
   "outputs": [],
   "source": [
    "# функция тестирования\n",
    "def test(model, device, test_loader, criterion, WANDB):\n",
    "    model.eval() # переводем модель в режим инференса\n",
    "    test_loss = 0\n",
    "    correct = 0\n",
    "    # показываем, что обученич нет и градиенты не обновляются\n",
    "    with torch.no_grad():\n",
    "        for data, target in test_loader:\n",
    "            data, target = data.to(device), target.to(device)\n",
    "            output = model(data)\n",
    "            test_loss = criterion(output, target) # считаем значение функции потерь\n",
    "            pred = output.argmax(dim=1, keepdim=True)\n",
    "            correct += pred.eq(target.view_as(pred)).sum().item()\n",
    "            # считаем метрики\n",
    "    tqdm.write('Test set: Average loss: {:.4f}, Accuracy: {:.0f}%'.format(\n",
    "        test_loss, 100. * correct / len(test_loader.dataset)))\n",
    "    \n",
    "    if WANDB:\n",
    "        wandb.log({'test_loss': test_loss,\n",
    "                   'test_accuracy': correct / len(test_loader.dataset)})"
   ]
  },
  {
   "cell_type": "code",
   "execution_count": 27,
   "metadata": {
    "id": "wOHQ0Wt9XFEh"
   },
   "outputs": [],
   "source": [
    "# основная функция для экспериментов\n",
    "def main(model):\n",
    "    # настраиваем окружение для wandb\n",
    "    if CFG.wandb:\n",
    "        os.environ[\"WANDB_API_KEY\"] = CFG.api\n",
    "        wandb.init(project=CFG.project, entity=CFG.entity, reinit=True, config=class2dict(CFG))\n",
    "  \n",
    "    use_cuda =torch.cuda.is_available() # проверяем доступность GPU \n",
    "\n",
    "    seed_everything(CFG.seed) # фиксируем сиды\n",
    "\n",
    "    device = torch.device('cuda:0' if torch.cuda.is_available() else 'cpu') # выделили устройство  \n",
    "    \n",
    "    if CFG.wandb:\n",
    "        wandb.watch(model, log='all') # логируем все (метрики, лоссы, градиенты)\n",
    "\n",
    "    for epoch in range(1, CFG.num_epochs + 1): # цикл на эпохи\n",
    "        print('\\nEpoch:', epoch)\n",
    "        train(model, device, train_loader, optimizer, criterion, epoch, CFG.wandb)\n",
    "        test(model, device, test_loader, criterion, CFG.wandb)\n",
    "    print('Training is end!')"
   ]
  },
  {
   "cell_type": "code",
   "execution_count": 28,
   "metadata": {
    "colab": {
     "base_uri": "https://localhost:8080/"
    },
    "id": "ddOOVyDhXJlH",
    "outputId": "79241dc8-cd53-48c1-c0eb-633f1566ca3c"
   },
   "outputs": [
    {
     "name": "stdout",
     "output_type": "stream",
     "text": [
      "Thu Mar 30 17:35:10 2023       \n",
      "+-----------------------------------------------------------------------------+\n",
      "| NVIDIA-SMI 511.65       Driver Version: 511.65       CUDA Version: 11.6     |\n",
      "|-------------------------------+----------------------+----------------------+\n",
      "| GPU  Name            TCC/WDDM | Bus-Id        Disp.A | Volatile Uncorr. ECC |\n",
      "| Fan  Temp  Perf  Pwr:Usage/Cap|         Memory-Usage | GPU-Util  Compute M. |\n",
      "|                               |                      |               MIG M. |\n",
      "|===============================+======================+======================|\n",
      "|   0  NVIDIA GeForce ... WDDM  | 00000000:01:00.0 Off |                  N/A |\n",
      "| N/A   51C    P8    10W /  N/A |   1642MiB /  6144MiB |      0%      Default |\n",
      "|                               |                      |                  N/A |\n",
      "+-------------------------------+----------------------+----------------------+\n",
      "                                                                               \n",
      "+-----------------------------------------------------------------------------+\n",
      "| Processes:                                                                  |\n",
      "|  GPU   GI   CI        PID   Type   Process name                  GPU Memory |\n",
      "|        ID   ID                                                   Usage      |\n",
      "|=============================================================================|\n",
      "|    0   N/A  N/A      5000      C   ...m199\\anaconda3\\python.exe    N/A      |\n",
      "|    0   N/A  N/A     16896      C   ...m199\\anaconda3\\python.exe    N/A      |\n",
      "+-----------------------------------------------------------------------------+\n",
      "WARNING: infoROM is corrupted at gpu 0000:01:00.0\n"
     ]
    }
   ],
   "source": [
    "gpu_info = !nvidia-smi\n",
    "gpu_info = '\\n'.join(gpu_info)\n",
    "print(gpu_info)"
   ]
  },
  {
   "cell_type": "markdown",
   "metadata": {
    "id": "BWz5hylffowH"
   },
   "source": [
    "Запускаем обучение."
   ]
  },
  {
   "cell_type": "code",
   "execution_count": 29,
   "metadata": {
    "colab": {
     "base_uri": "https://localhost:8080/",
     "height": 478
    },
    "id": "GUnN4kneXL1E",
    "outputId": "6165d6d2-54f4-44b3-ce8f-6ad9087e1008"
   },
   "outputs": [
    {
     "name": "stdout",
     "output_type": "stream",
     "text": [
      "\n",
      "Epoch: 1\n"
     ]
    },
    {
     "name": "stderr",
     "output_type": "stream",
     "text": [
      "100%|██████████| 938/938 [00:25<00:00, 36.13it/s]\n"
     ]
    },
    {
     "name": "stdout",
     "output_type": "stream",
     "text": [
      "\n",
      "Train set: Average loss: 0.7031, Accuracy: 72%\n",
      "Test set: Average loss: 0.5405, Accuracy: 78%\n",
      "\n",
      "Epoch: 2\n"
     ]
    },
    {
     "name": "stderr",
     "output_type": "stream",
     "text": [
      "100%|██████████| 938/938 [00:20<00:00, 45.01it/s]\n"
     ]
    },
    {
     "name": "stdout",
     "output_type": "stream",
     "text": [
      "\n",
      "Train set: Average loss: 0.3137, Accuracy: 82%\n",
      "Test set: Average loss: 0.4364, Accuracy: 82%\n",
      "\n",
      "Epoch: 3\n"
     ]
    },
    {
     "name": "stderr",
     "output_type": "stream",
     "text": [
      "100%|██████████| 938/938 [00:19<00:00, 48.74it/s]\n"
     ]
    },
    {
     "name": "stdout",
     "output_type": "stream",
     "text": [
      "\n",
      "Train set: Average loss: 0.3606, Accuracy: 84%\n",
      "Test set: Average loss: 0.4030, Accuracy: 83%\n",
      "\n",
      "Epoch: 4\n"
     ]
    },
    {
     "name": "stderr",
     "output_type": "stream",
     "text": [
      "100%|██████████| 938/938 [00:19<00:00, 49.11it/s]\n"
     ]
    },
    {
     "name": "stdout",
     "output_type": "stream",
     "text": [
      "\n",
      "Train set: Average loss: 0.9046, Accuracy: 85%\n",
      "Test set: Average loss: 0.3652, Accuracy: 84%\n",
      "\n",
      "Epoch: 5\n"
     ]
    },
    {
     "name": "stderr",
     "output_type": "stream",
     "text": [
      "100%|██████████| 938/938 [00:17<00:00, 54.28it/s]\n"
     ]
    },
    {
     "name": "stdout",
     "output_type": "stream",
     "text": [
      "\n",
      "Train set: Average loss: 0.6019, Accuracy: 86%\n",
      "Test set: Average loss: 0.3488, Accuracy: 84%\n",
      "\n",
      "Epoch: 6\n"
     ]
    },
    {
     "name": "stderr",
     "output_type": "stream",
     "text": [
      "100%|██████████| 938/938 [00:18<00:00, 49.45it/s]\n"
     ]
    },
    {
     "name": "stdout",
     "output_type": "stream",
     "text": [
      "\n",
      "Train set: Average loss: 0.1744, Accuracy: 86%\n",
      "Test set: Average loss: 0.3200, Accuracy: 85%\n",
      "\n",
      "Epoch: 7\n"
     ]
    },
    {
     "name": "stderr",
     "output_type": "stream",
     "text": [
      "100%|██████████| 938/938 [00:20<00:00, 46.69it/s]\n"
     ]
    },
    {
     "name": "stdout",
     "output_type": "stream",
     "text": [
      "\n",
      "Train set: Average loss: 0.3283, Accuracy: 87%\n",
      "Test set: Average loss: 0.3318, Accuracy: 85%\n",
      "\n",
      "Epoch: 8\n"
     ]
    },
    {
     "name": "stderr",
     "output_type": "stream",
     "text": [
      "100%|██████████| 938/938 [00:17<00:00, 53.62it/s]\n"
     ]
    },
    {
     "name": "stdout",
     "output_type": "stream",
     "text": [
      "\n",
      "Train set: Average loss: 0.2837, Accuracy: 88%\n",
      "Test set: Average loss: 0.2969, Accuracy: 86%\n",
      "\n",
      "Epoch: 9\n"
     ]
    },
    {
     "name": "stderr",
     "output_type": "stream",
     "text": [
      "100%|██████████| 938/938 [00:17<00:00, 53.46it/s]\n"
     ]
    },
    {
     "name": "stdout",
     "output_type": "stream",
     "text": [
      "\n",
      "Train set: Average loss: 0.2791, Accuracy: 88%\n",
      "Test set: Average loss: 0.2889, Accuracy: 86%\n",
      "\n",
      "Epoch: 10\n"
     ]
    },
    {
     "name": "stderr",
     "output_type": "stream",
     "text": [
      "100%|██████████| 938/938 [00:17<00:00, 54.03it/s]\n"
     ]
    },
    {
     "name": "stdout",
     "output_type": "stream",
     "text": [
      "\n",
      "Train set: Average loss: 0.4397, Accuracy: 88%\n",
      "Test set: Average loss: 0.2859, Accuracy: 86%\n",
      "Training is end!\n"
     ]
    }
   ],
   "source": [
    "main(model)"
   ]
  },
  {
   "cell_type": "markdown",
   "metadata": {
    "id": "D1Erk-nsfWxd"
   },
   "source": [
    "Пробуем другие оптимизаторы."
   ]
  },
  {
   "cell_type": "code",
   "execution_count": 22,
   "metadata": {
    "id": "_GL8CKOjXN7F"
   },
   "outputs": [],
   "source": [
    "# Adam со скоростью обучения (learning rate) = 0.001\n",
    "optimizer = torch.optim.Adam(params=model.parameters(),\n",
    "                           lr=0.001)"
   ]
  },
  {
   "cell_type": "code",
   "execution_count": 23,
   "metadata": {},
   "outputs": [
    {
     "name": "stdout",
     "output_type": "stream",
     "text": [
      "\n",
      "Epoch: 1\n"
     ]
    },
    {
     "name": "stderr",
     "output_type": "stream",
     "text": [
      "100%|██████████| 938/938 [00:18<00:00, 51.77it/s]\n"
     ]
    },
    {
     "name": "stdout",
     "output_type": "stream",
     "text": [
      "\n",
      "Train set: Average loss: 0.3257, Accuracy: 85%\n",
      "Test set: Average loss: 0.3197, Accuracy: 84%\n",
      "\n",
      "Epoch: 2\n"
     ]
    },
    {
     "name": "stderr",
     "output_type": "stream",
     "text": [
      "100%|██████████| 938/938 [00:22<00:00, 42.41it/s]\n"
     ]
    },
    {
     "name": "stdout",
     "output_type": "stream",
     "text": [
      "\n",
      "Train set: Average loss: 0.1427, Accuracy: 88%\n",
      "Test set: Average loss: 0.2781, Accuracy: 87%\n",
      "\n",
      "Epoch: 3\n"
     ]
    },
    {
     "name": "stderr",
     "output_type": "stream",
     "text": [
      "100%|██████████| 938/938 [00:22<00:00, 41.34it/s]\n"
     ]
    },
    {
     "name": "stdout",
     "output_type": "stream",
     "text": [
      "\n",
      "Train set: Average loss: 0.1612, Accuracy: 89%\n",
      "Test set: Average loss: 0.2938, Accuracy: 86%\n",
      "\n",
      "Epoch: 4\n"
     ]
    },
    {
     "name": "stderr",
     "output_type": "stream",
     "text": [
      "100%|██████████| 938/938 [00:21<00:00, 42.85it/s]\n"
     ]
    },
    {
     "name": "stdout",
     "output_type": "stream",
     "text": [
      "\n",
      "Train set: Average loss: 0.5043, Accuracy: 90%\n",
      "Test set: Average loss: 0.2577, Accuracy: 87%\n",
      "\n",
      "Epoch: 5\n"
     ]
    },
    {
     "name": "stderr",
     "output_type": "stream",
     "text": [
      "100%|██████████| 938/938 [00:21<00:00, 42.66it/s]"
     ]
    },
    {
     "name": "stdout",
     "output_type": "stream",
     "text": [
      "\n",
      "Train set: Average loss: 0.5338, Accuracy: 90%\n"
     ]
    },
    {
     "name": "stderr",
     "output_type": "stream",
     "text": [
      "\n"
     ]
    },
    {
     "name": "stdout",
     "output_type": "stream",
     "text": [
      "Test set: Average loss: 0.2954, Accuracy: 87%\n",
      "\n",
      "Epoch: 6\n"
     ]
    },
    {
     "name": "stderr",
     "output_type": "stream",
     "text": [
      "100%|██████████| 938/938 [00:19<00:00, 48.47it/s]\n"
     ]
    },
    {
     "name": "stdout",
     "output_type": "stream",
     "text": [
      "\n",
      "Train set: Average loss: 0.0958, Accuracy: 91%\n",
      "Test set: Average loss: 0.2440, Accuracy: 88%\n",
      "\n",
      "Epoch: 7\n"
     ]
    },
    {
     "name": "stderr",
     "output_type": "stream",
     "text": [
      "100%|██████████| 938/938 [00:20<00:00, 44.93it/s]\n"
     ]
    },
    {
     "name": "stdout",
     "output_type": "stream",
     "text": [
      "\n",
      "Train set: Average loss: 0.2396, Accuracy: 91%\n",
      "Test set: Average loss: 0.2644, Accuracy: 88%\n",
      "\n",
      "Epoch: 8\n"
     ]
    },
    {
     "name": "stderr",
     "output_type": "stream",
     "text": [
      "100%|██████████| 938/938 [00:19<00:00, 47.03it/s]\n"
     ]
    },
    {
     "name": "stdout",
     "output_type": "stream",
     "text": [
      "\n",
      "Train set: Average loss: 0.1998, Accuracy: 92%\n",
      "Test set: Average loss: 0.2233, Accuracy: 89%\n",
      "\n",
      "Epoch: 9\n"
     ]
    },
    {
     "name": "stderr",
     "output_type": "stream",
     "text": [
      "100%|██████████| 938/938 [00:18<00:00, 50.03it/s]\n"
     ]
    },
    {
     "name": "stdout",
     "output_type": "stream",
     "text": [
      "\n",
      "Train set: Average loss: 0.0873, Accuracy: 92%\n",
      "Test set: Average loss: 0.2691, Accuracy: 88%\n",
      "\n",
      "Epoch: 10\n"
     ]
    },
    {
     "name": "stderr",
     "output_type": "stream",
     "text": [
      "100%|██████████| 938/938 [00:17<00:00, 54.66it/s]\n"
     ]
    },
    {
     "name": "stdout",
     "output_type": "stream",
     "text": [
      "\n",
      "Train set: Average loss: 0.3088, Accuracy: 92%\n",
      "Test set: Average loss: 0.2361, Accuracy: 89%\n",
      "Training is end!\n"
     ]
    }
   ],
   "source": [
    "main(model)"
   ]
  },
  {
   "cell_type": "code",
   "execution_count": 24,
   "metadata": {},
   "outputs": [],
   "source": [
    "# Adam со скоростью обучения (learning rate) = 0.001\n",
    "optimizer = torch.optim.Adadelta(params=model.parameters(),\n",
    "                           lr=1.0)"
   ]
  },
  {
   "cell_type": "code",
   "execution_count": 25,
   "metadata": {},
   "outputs": [
    {
     "name": "stdout",
     "output_type": "stream",
     "text": [
      "\n",
      "Epoch: 1\n"
     ]
    },
    {
     "name": "stderr",
     "output_type": "stream",
     "text": [
      "100%|██████████| 938/938 [00:20<00:00, 45.26it/s]\n"
     ]
    },
    {
     "name": "stdout",
     "output_type": "stream",
     "text": [
      "\n",
      "Train set: Average loss: 0.0839, Accuracy: 92%\n",
      "Test set: Average loss: 0.2774, Accuracy: 87%\n",
      "\n",
      "Epoch: 2\n"
     ]
    },
    {
     "name": "stderr",
     "output_type": "stream",
     "text": [
      "100%|██████████| 938/938 [00:19<00:00, 47.25it/s]\n"
     ]
    },
    {
     "name": "stdout",
     "output_type": "stream",
     "text": [
      "\n",
      "Train set: Average loss: 0.0629, Accuracy: 92%\n",
      "Test set: Average loss: 0.3783, Accuracy: 88%\n",
      "\n",
      "Epoch: 3\n"
     ]
    },
    {
     "name": "stderr",
     "output_type": "stream",
     "text": [
      "100%|██████████| 938/938 [00:16<00:00, 56.43it/s]\n"
     ]
    },
    {
     "name": "stdout",
     "output_type": "stream",
     "text": [
      "\n",
      "Train set: Average loss: 0.1289, Accuracy: 92%\n",
      "Test set: Average loss: 0.3088, Accuracy: 89%\n",
      "\n",
      "Epoch: 4\n"
     ]
    },
    {
     "name": "stderr",
     "output_type": "stream",
     "text": [
      "100%|██████████| 938/938 [00:18<00:00, 51.21it/s]\n"
     ]
    },
    {
     "name": "stdout",
     "output_type": "stream",
     "text": [
      "\n",
      "Train set: Average loss: 0.4131, Accuracy: 92%\n",
      "Test set: Average loss: 0.3975, Accuracy: 85%\n",
      "\n",
      "Epoch: 5\n"
     ]
    },
    {
     "name": "stderr",
     "output_type": "stream",
     "text": [
      "100%|██████████| 938/938 [00:17<00:00, 54.36it/s]\n"
     ]
    },
    {
     "name": "stdout",
     "output_type": "stream",
     "text": [
      "\n",
      "Train set: Average loss: 0.6842, Accuracy: 93%\n",
      "Test set: Average loss: 0.3416, Accuracy: 86%\n",
      "\n",
      "Epoch: 6\n"
     ]
    },
    {
     "name": "stderr",
     "output_type": "stream",
     "text": [
      "100%|██████████| 938/938 [00:16<00:00, 56.24it/s]\n"
     ]
    },
    {
     "name": "stdout",
     "output_type": "stream",
     "text": [
      "\n",
      "Train set: Average loss: 0.0483, Accuracy: 93%\n",
      "Test set: Average loss: 0.3676, Accuracy: 88%\n",
      "\n",
      "Epoch: 7\n"
     ]
    },
    {
     "name": "stderr",
     "output_type": "stream",
     "text": [
      "100%|██████████| 938/938 [00:16<00:00, 56.00it/s]\n"
     ]
    },
    {
     "name": "stdout",
     "output_type": "stream",
     "text": [
      "\n",
      "Train set: Average loss: 0.3080, Accuracy: 93%\n",
      "Test set: Average loss: 0.3915, Accuracy: 88%\n",
      "\n",
      "Epoch: 8\n"
     ]
    },
    {
     "name": "stderr",
     "output_type": "stream",
     "text": [
      "100%|██████████| 938/938 [00:18<00:00, 50.36it/s]\n"
     ]
    },
    {
     "name": "stdout",
     "output_type": "stream",
     "text": [
      "\n",
      "Train set: Average loss: 0.2547, Accuracy: 93%\n",
      "Test set: Average loss: 0.4383, Accuracy: 88%\n",
      "\n",
      "Epoch: 9\n"
     ]
    },
    {
     "name": "stderr",
     "output_type": "stream",
     "text": [
      "100%|██████████| 938/938 [00:16<00:00, 56.16it/s]\n"
     ]
    },
    {
     "name": "stdout",
     "output_type": "stream",
     "text": [
      "\n",
      "Train set: Average loss: 0.0597, Accuracy: 93%\n",
      "Test set: Average loss: 0.4908, Accuracy: 88%\n",
      "\n",
      "Epoch: 10\n"
     ]
    },
    {
     "name": "stderr",
     "output_type": "stream",
     "text": [
      "100%|██████████| 938/938 [00:16<00:00, 56.17it/s]\n"
     ]
    },
    {
     "name": "stdout",
     "output_type": "stream",
     "text": [
      "\n",
      "Train set: Average loss: 0.1963, Accuracy: 93%\n",
      "Test set: Average loss: 0.3071, Accuracy: 87%\n",
      "Training is end!\n"
     ]
    }
   ],
   "source": [
    "main(model)"
   ]
  },
  {
   "cell_type": "markdown",
   "metadata": {},
   "source": [
    "Оптимизатор Adam продемонстировал лучший результат среди SGD and Adadeta. \n",
    "Train set: Average loss: 0.3088, Accuracy: 92%\n",
    "Test set: Average loss: 0.2361, Accuracy: 89%"
   ]
  },
  {
   "cell_type": "code",
   "execution_count": 26,
   "metadata": {},
   "outputs": [],
   "source": [
    "class My_Net_Extended(nn.Module): # наследуемся от класса nn.Module\n",
    "\n",
    "    def __init__(self):\n",
    "        super(My_Net_Extended,self).__init__()\n",
    "        \n",
    "        # количество нейронов в скрытых слоях (256, 128, 64)\n",
    "        self.hidden_1 = 256\n",
    "        self.hidden_2 = 128\n",
    "        self.hidden_3 = 64\n",
    "        # первый слой (784(=28*28) -> hidden_1)\n",
    "        self.fc1 = nn.Linear(28*28, self.hidden_1) \n",
    "        # второй слой (hidden_1 -> hidden_2)\n",
    "        self.fc2 = nn.Linear(self.hidden_1, self.hidden_2)\n",
    "        # третий ( (hidden_2 -> hidden_3)\n",
    "        self.fc3 = nn.Linear(self.hidden_2, self.hidden_3)\n",
    "        # четвертый (выходной) слой (hidden_3 -> 10 (классов))\n",
    "        self.fc4 = nn.Linear(self.hidden_3, 10)\n",
    "\n",
    "        \n",
    "    def forward(self, x):\n",
    "        # преобразуем батч картинок из (N, 28, 28) в (N, 784)\n",
    "        x = x.view(-1, 28*28)\n",
    "        # добавляем первый скрытый слой с ReLU активацией\n",
    "        x = F.relu(self.fc1(x))\n",
    "        # добавляем второй скрытый слой с ReLU активацией\n",
    "        x = F.relu(self.fc2(x))\n",
    "        # добавляем третий скрытый слой с ReLU активацией\n",
    "        x = F.relu(self.fc3(x))\n",
    "        # добавляем третий (выходной) слой\n",
    "        x = self.fc4(x)\n",
    "        return x"
   ]
  },
  {
   "cell_type": "markdown",
   "metadata": {
    "id": "gQtYBN6QfaD0"
   },
   "source": []
  },
  {
   "cell_type": "code",
   "execution_count": 34,
   "metadata": {},
   "outputs": [],
   "source": [
    "model = My_Net_Extended()"
   ]
  },
  {
   "cell_type": "code",
   "execution_count": 35,
   "metadata": {},
   "outputs": [],
   "source": [
    "optimizer = torch.optim.Adam(params=model.parameters(),\n",
    "                           lr=0.001)"
   ]
  },
  {
   "cell_type": "code",
   "execution_count": 36,
   "metadata": {},
   "outputs": [],
   "source": [
    "model = model.to(device) # переводим модель на GPU"
   ]
  },
  {
   "cell_type": "code",
   "execution_count": 37,
   "metadata": {},
   "outputs": [
    {
     "name": "stdout",
     "output_type": "stream",
     "text": [
      "\n",
      "Epoch: 1\n"
     ]
    },
    {
     "name": "stderr",
     "output_type": "stream",
     "text": [
      "100%|██████████| 938/938 [00:20<00:00, 46.75it/s]\n"
     ]
    },
    {
     "name": "stdout",
     "output_type": "stream",
     "text": [
      "\n",
      "Train set: Average loss: 0.3070, Accuracy: 82%\n",
      "Test set: Average loss: 0.3369, Accuracy: 84%\n",
      "\n",
      "Epoch: 2\n"
     ]
    },
    {
     "name": "stderr",
     "output_type": "stream",
     "text": [
      "100%|██████████| 938/938 [00:17<00:00, 53.73it/s]\n"
     ]
    },
    {
     "name": "stdout",
     "output_type": "stream",
     "text": [
      "\n",
      "Train set: Average loss: 0.1899, Accuracy: 87%\n",
      "Test set: Average loss: 0.2602, Accuracy: 86%\n",
      "\n",
      "Epoch: 3\n"
     ]
    },
    {
     "name": "stderr",
     "output_type": "stream",
     "text": [
      "100%|██████████| 938/938 [00:17<00:00, 53.40it/s]\n"
     ]
    },
    {
     "name": "stdout",
     "output_type": "stream",
     "text": [
      "\n",
      "Train set: Average loss: 0.1840, Accuracy: 88%\n",
      "Test set: Average loss: 0.2975, Accuracy: 85%\n",
      "\n",
      "Epoch: 4\n"
     ]
    },
    {
     "name": "stderr",
     "output_type": "stream",
     "text": [
      "100%|██████████| 938/938 [00:17<00:00, 52.16it/s]\n"
     ]
    },
    {
     "name": "stdout",
     "output_type": "stream",
     "text": [
      "\n",
      "Train set: Average loss: 0.4196, Accuracy: 89%\n",
      "Test set: Average loss: 0.2283, Accuracy: 87%\n",
      "\n",
      "Epoch: 5\n"
     ]
    },
    {
     "name": "stderr",
     "output_type": "stream",
     "text": [
      "100%|██████████| 938/938 [00:20<00:00, 46.62it/s]\n"
     ]
    },
    {
     "name": "stdout",
     "output_type": "stream",
     "text": [
      "\n",
      "Train set: Average loss: 0.4718, Accuracy: 90%\n",
      "Test set: Average loss: 0.2246, Accuracy: 87%\n",
      "\n",
      "Epoch: 6\n"
     ]
    },
    {
     "name": "stderr",
     "output_type": "stream",
     "text": [
      "100%|██████████| 938/938 [00:21<00:00, 43.90it/s]\n"
     ]
    },
    {
     "name": "stdout",
     "output_type": "stream",
     "text": [
      "\n",
      "Train set: Average loss: 0.0417, Accuracy: 90%\n",
      "Test set: Average loss: 0.2094, Accuracy: 88%\n",
      "\n",
      "Epoch: 7\n"
     ]
    },
    {
     "name": "stderr",
     "output_type": "stream",
     "text": [
      "100%|██████████| 938/938 [00:22<00:00, 41.35it/s]\n"
     ]
    },
    {
     "name": "stdout",
     "output_type": "stream",
     "text": [
      "\n",
      "Train set: Average loss: 0.2450, Accuracy: 91%\n",
      "Test set: Average loss: 0.2186, Accuracy: 88%\n",
      "\n",
      "Epoch: 8\n"
     ]
    },
    {
     "name": "stderr",
     "output_type": "stream",
     "text": [
      "100%|██████████| 938/938 [00:20<00:00, 45.24it/s]\n"
     ]
    },
    {
     "name": "stdout",
     "output_type": "stream",
     "text": [
      "\n",
      "Train set: Average loss: 0.2089, Accuracy: 91%\n",
      "Test set: Average loss: 0.2016, Accuracy: 89%\n",
      "\n",
      "Epoch: 9\n"
     ]
    },
    {
     "name": "stderr",
     "output_type": "stream",
     "text": [
      "100%|██████████| 938/938 [00:18<00:00, 51.78it/s]\n"
     ]
    },
    {
     "name": "stdout",
     "output_type": "stream",
     "text": [
      "\n",
      "Train set: Average loss: 0.1306, Accuracy: 92%\n",
      "Test set: Average loss: 0.2343, Accuracy: 89%\n",
      "\n",
      "Epoch: 10\n"
     ]
    },
    {
     "name": "stderr",
     "output_type": "stream",
     "text": [
      "100%|██████████| 938/938 [00:17<00:00, 53.80it/s]\n"
     ]
    },
    {
     "name": "stdout",
     "output_type": "stream",
     "text": [
      "\n",
      "Train set: Average loss: 0.3477, Accuracy: 92%\n",
      "Test set: Average loss: 0.2219, Accuracy: 89%\n",
      "Training is end!\n"
     ]
    }
   ],
   "source": [
    "main(model)"
   ]
  },
  {
   "cell_type": "code",
   "execution_count": 40,
   "metadata": {},
   "outputs": [],
   "source": [
    "class My_Net_Extended_V2(nn.Module): # наследуемся от класса nn.Module\n",
    "\n",
    "    def __init__(self):\n",
    "        super(My_Net_Extended_V2,self).__init__()\n",
    "        \n",
    "        # количество нейронов в скрытых слоях (256, 128, 128)\n",
    "        self.hidden_1 = 256\n",
    "        self.hidden_2 = 128\n",
    "        self.hidden_3 = 128\n",
    "\n",
    "        # первый слой (784(=28*28) -> hidden_1)\n",
    "        self.fc1 = nn.Linear(28*28, self.hidden_1) \n",
    "        # второй слой (hidden_1 -> hidden_2)\n",
    "        self.fc2 = nn.Linear(self.hidden_1, self.hidden_2)\n",
    "        # третий ( (hidden_2 -> hidden_3)\n",
    "        self.fc3 = nn.Linear(self.hidden_2, self.hidden_3)\n",
    "        # четвертый (выходной) слой (hidden_3 -> 10 (классов))\n",
    "        self.fc4 = nn.Linear(self.hidden_3, 10)\n",
    "\n",
    "        \n",
    "    def forward(self, x):\n",
    "        # преобразуем батч картинок из (N, 28, 28) в (N, 784)\n",
    "        x = x.view(-1, 28*28)\n",
    "        # добавляем первый скрытый слой с ReLU активацией\n",
    "        x = F.relu(self.fc1(x))\n",
    "        # добавляем второй скрытый слой с ReLU активацией\n",
    "        x = F.relu(self.fc2(x))\n",
    "        # добавляем третий скрытый слой с ReLU активацией\n",
    "        x = F.relu(self.fc3(x))\n",
    "        # добавляем третий (выходной) слой\n",
    "        x = self.fc4(x)\n",
    "        return x"
   ]
  },
  {
   "cell_type": "code",
   "execution_count": 41,
   "metadata": {},
   "outputs": [],
   "source": [
    "model = My_Net_Extended_V2()\n",
    "\n",
    "optimizer = torch.optim.Adam(params=model.parameters(),\n",
    "                           lr=0.001)\n",
    "\n",
    "model = model.to(device) # переводим модель на GPU"
   ]
  },
  {
   "cell_type": "code",
   "execution_count": 42,
   "metadata": {},
   "outputs": [
    {
     "name": "stdout",
     "output_type": "stream",
     "text": [
      "\n",
      "Epoch: 1\n"
     ]
    },
    {
     "name": "stderr",
     "output_type": "stream",
     "text": [
      "100%|██████████| 938/938 [00:20<00:00, 45.57it/s]\n"
     ]
    },
    {
     "name": "stdout",
     "output_type": "stream",
     "text": [
      "\n",
      "Train set: Average loss: 0.3806, Accuracy: 82%\n",
      "Test set: Average loss: 0.3269, Accuracy: 85%\n",
      "\n",
      "Epoch: 2\n"
     ]
    },
    {
     "name": "stderr",
     "output_type": "stream",
     "text": [
      "100%|██████████| 938/938 [00:20<00:00, 45.13it/s]\n"
     ]
    },
    {
     "name": "stdout",
     "output_type": "stream",
     "text": [
      "\n",
      "Train set: Average loss: 0.1557, Accuracy: 87%\n",
      "Test set: Average loss: 0.2658, Accuracy: 86%\n",
      "\n",
      "Epoch: 3\n"
     ]
    },
    {
     "name": "stderr",
     "output_type": "stream",
     "text": [
      "100%|██████████| 938/938 [00:18<00:00, 50.03it/s]\n"
     ]
    },
    {
     "name": "stdout",
     "output_type": "stream",
     "text": [
      "\n",
      "Train set: Average loss: 0.1956, Accuracy: 88%\n",
      "Test set: Average loss: 0.2925, Accuracy: 86%\n",
      "\n",
      "Epoch: 4\n"
     ]
    },
    {
     "name": "stderr",
     "output_type": "stream",
     "text": [
      "100%|██████████| 938/938 [00:17<00:00, 52.96it/s]\n"
     ]
    },
    {
     "name": "stdout",
     "output_type": "stream",
     "text": [
      "\n",
      "Train set: Average loss: 0.5303, Accuracy: 89%\n",
      "Test set: Average loss: 0.2173, Accuracy: 87%\n",
      "\n",
      "Epoch: 5\n"
     ]
    },
    {
     "name": "stderr",
     "output_type": "stream",
     "text": [
      "100%|██████████| 938/938 [00:17<00:00, 53.10it/s]\n"
     ]
    },
    {
     "name": "stdout",
     "output_type": "stream",
     "text": [
      "\n",
      "Train set: Average loss: 0.5245, Accuracy: 90%\n",
      "Test set: Average loss: 0.2278, Accuracy: 88%\n",
      "\n",
      "Epoch: 6\n"
     ]
    },
    {
     "name": "stderr",
     "output_type": "stream",
     "text": [
      "100%|██████████| 938/938 [00:17<00:00, 52.54it/s]\n"
     ]
    },
    {
     "name": "stdout",
     "output_type": "stream",
     "text": [
      "\n",
      "Train set: Average loss: 0.0580, Accuracy: 90%\n",
      "Test set: Average loss: 0.2135, Accuracy: 88%\n",
      "\n",
      "Epoch: 7\n"
     ]
    },
    {
     "name": "stderr",
     "output_type": "stream",
     "text": [
      "100%|██████████| 938/938 [00:17<00:00, 52.98it/s]\n"
     ]
    },
    {
     "name": "stdout",
     "output_type": "stream",
     "text": [
      "\n",
      "Train set: Average loss: 0.2261, Accuracy: 91%\n",
      "Test set: Average loss: 0.2567, Accuracy: 88%\n",
      "\n",
      "Epoch: 8\n"
     ]
    },
    {
     "name": "stderr",
     "output_type": "stream",
     "text": [
      "100%|██████████| 938/938 [00:17<00:00, 54.78it/s]\n"
     ]
    },
    {
     "name": "stdout",
     "output_type": "stream",
     "text": [
      "\n",
      "Train set: Average loss: 0.2376, Accuracy: 91%\n",
      "Test set: Average loss: 0.2340, Accuracy: 88%\n",
      "\n",
      "Epoch: 9\n"
     ]
    },
    {
     "name": "stderr",
     "output_type": "stream",
     "text": [
      "100%|██████████| 938/938 [00:16<00:00, 55.45it/s]\n"
     ]
    },
    {
     "name": "stdout",
     "output_type": "stream",
     "text": [
      "\n",
      "Train set: Average loss: 0.0800, Accuracy: 92%\n",
      "Test set: Average loss: 0.2339, Accuracy: 89%\n",
      "\n",
      "Epoch: 10\n"
     ]
    },
    {
     "name": "stderr",
     "output_type": "stream",
     "text": [
      "100%|██████████| 938/938 [00:16<00:00, 55.43it/s]\n"
     ]
    },
    {
     "name": "stdout",
     "output_type": "stream",
     "text": [
      "\n",
      "Train set: Average loss: 0.3551, Accuracy: 92%\n",
      "Test set: Average loss: 0.2093, Accuracy: 89%\n",
      "Training is end!\n"
     ]
    }
   ],
   "source": [
    "main(model)"
   ]
  },
  {
   "cell_type": "markdown",
   "metadata": {},
   "source": [
    "модели с количеством нейронов в скрытых слоях (256, 128, 128), (256, 128), (256, 128, 64) и оптимизатором Adam показали идентичные результаты\n",
    "Train set: Average loss: 0.3551, Accuracy: 92%\n",
    "Test set: Average loss: 0.2093, Accuracy: 89%"
   ]
  },
  {
   "cell_type": "code",
   "execution_count": 43,
   "metadata": {},
   "outputs": [],
   "source": [
    "class My_Net_Extended_V3(nn.Module): # наследуемся от класса nn.Module\n",
    "\n",
    "    def __init__(self):\n",
    "        super(My_Net_Extended_V3,self).__init__()\n",
    "        \n",
    "        # количество нейронов в скрытых слоях (256, 128, 128, 64, 43)\n",
    "        self.hidden_1 = 256\n",
    "        self.hidden_2 = 128\n",
    "        self.hidden_3 = 128\n",
    "        self.hidden_4 = 64\n",
    "        self.hidden_5 = 32\n",
    "        # первый слой (784(=28*28) -> hidden_1)\n",
    "        self.fc1 = nn.Linear(28*28, self.hidden_1) \n",
    "        # второй слой (hidden_1 -> hidden_2)\n",
    "        self.fc2 = nn.Linear(self.hidden_1, self.hidden_2)\n",
    "        # третий ( (hidden_2 -> hidden_3)\n",
    "        self.fc3 = nn.Linear(self.hidden_2, self.hidden_3)\n",
    "        #четвертый\n",
    "        self.fc4 = nn.Linear(self.hidden_3, self.hidden_4)\n",
    "        #пятый\n",
    "        self.fc5 = nn.Linear(self.hidden_4, self.hidden_5)\n",
    "        # шестой (выходной) слой (hidden_5 -> 10 (классов))\n",
    "        self.fc6 = nn.Linear(self.hidden_5, 10)\n",
    "\n",
    "        \n",
    "    def forward(self, x):\n",
    "        # преобразуем батч картинок из (N, 28, 28) в (N, 784)\n",
    "        x = x.view(-1, 28*28)\n",
    "        # добавляем первый скрытый слой с ReLU активацией\n",
    "        x = F.relu(self.fc1(x))\n",
    "        # добавляем второй скрытый слой с ReLU активацией\n",
    "        x = F.relu(self.fc2(x))\n",
    "        # добавляем третий скрытый слой с ReLU активацией\n",
    "        x = F.relu(self.fc3(x))\n",
    "        # добавляем четвертый скрытый слой с ReLU активацией\n",
    "        x = F.relu(self.fc4(x))\n",
    "        # добавляем пятый скрытый слой с ReLU активацией\n",
    "        x = F.relu(self.fc5(x))\n",
    "        # добавляем шесто (выходной) слой\n",
    "        x = self.fc6(x)\n",
    "        return x"
   ]
  },
  {
   "cell_type": "code",
   "execution_count": 44,
   "metadata": {},
   "outputs": [],
   "source": [
    "model = My_Net_Extended_V3()"
   ]
  },
  {
   "cell_type": "code",
   "execution_count": 47,
   "metadata": {},
   "outputs": [],
   "source": [
    "\n",
    "optimizer = torch.optim.Adam(params=model.parameters(),\n",
    "                           lr=0.001)\n",
    "\n",
    "model = model.to(device) # переводим модель на GPU"
   ]
  },
  {
   "cell_type": "code",
   "execution_count": 48,
   "metadata": {},
   "outputs": [
    {
     "name": "stdout",
     "output_type": "stream",
     "text": [
      "\n",
      "Epoch: 1\n"
     ]
    },
    {
     "name": "stderr",
     "output_type": "stream",
     "text": [
      "100%|██████████| 938/938 [00:18<00:00, 49.82it/s]\n"
     ]
    },
    {
     "name": "stdout",
     "output_type": "stream",
     "text": [
      "\n",
      "Train set: Average loss: 0.3556, Accuracy: 80%\n",
      "Test set: Average loss: 0.4096, Accuracy: 83%\n",
      "\n",
      "Epoch: 2\n"
     ]
    },
    {
     "name": "stderr",
     "output_type": "stream",
     "text": [
      "100%|██████████| 938/938 [00:18<00:00, 51.08it/s]\n"
     ]
    },
    {
     "name": "stdout",
     "output_type": "stream",
     "text": [
      "\n",
      "Train set: Average loss: 0.1621, Accuracy: 86%\n",
      "Test set: Average loss: 0.3134, Accuracy: 86%\n",
      "\n",
      "Epoch: 3\n"
     ]
    },
    {
     "name": "stderr",
     "output_type": "stream",
     "text": [
      "100%|██████████| 938/938 [00:18<00:00, 49.91it/s]\n"
     ]
    },
    {
     "name": "stdout",
     "output_type": "stream",
     "text": [
      "\n",
      "Train set: Average loss: 0.2032, Accuracy: 88%\n",
      "Test set: Average loss: 0.3050, Accuracy: 85%\n",
      "\n",
      "Epoch: 4\n"
     ]
    },
    {
     "name": "stderr",
     "output_type": "stream",
     "text": [
      "100%|██████████| 938/938 [00:19<00:00, 48.10it/s]\n"
     ]
    },
    {
     "name": "stdout",
     "output_type": "stream",
     "text": [
      "\n",
      "Train set: Average loss: 0.5795, Accuracy: 89%\n",
      "Test set: Average loss: 0.2569, Accuracy: 87%\n",
      "\n",
      "Epoch: 5\n"
     ]
    },
    {
     "name": "stderr",
     "output_type": "stream",
     "text": [
      "100%|██████████| 938/938 [00:19<00:00, 47.35it/s]\n"
     ]
    },
    {
     "name": "stdout",
     "output_type": "stream",
     "text": [
      "\n",
      "Train set: Average loss: 0.4872, Accuracy: 89%\n",
      "Test set: Average loss: 0.2614, Accuracy: 88%\n",
      "\n",
      "Epoch: 6\n"
     ]
    },
    {
     "name": "stderr",
     "output_type": "stream",
     "text": [
      "100%|██████████| 938/938 [00:19<00:00, 47.58it/s]\n"
     ]
    },
    {
     "name": "stdout",
     "output_type": "stream",
     "text": [
      "\n",
      "Train set: Average loss: 0.0978, Accuracy: 90%\n",
      "Test set: Average loss: 0.2370, Accuracy: 88%\n",
      "\n",
      "Epoch: 7\n"
     ]
    },
    {
     "name": "stderr",
     "output_type": "stream",
     "text": [
      "100%|██████████| 938/938 [00:19<00:00, 47.22it/s]\n"
     ]
    },
    {
     "name": "stdout",
     "output_type": "stream",
     "text": [
      "\n",
      "Train set: Average loss: 0.2596, Accuracy: 90%\n",
      "Test set: Average loss: 0.2462, Accuracy: 88%\n",
      "\n",
      "Epoch: 8\n"
     ]
    },
    {
     "name": "stderr",
     "output_type": "stream",
     "text": [
      "100%|██████████| 938/938 [00:19<00:00, 49.00it/s]\n"
     ]
    },
    {
     "name": "stdout",
     "output_type": "stream",
     "text": [
      "\n",
      "Train set: Average loss: 0.2041, Accuracy: 91%\n",
      "Test set: Average loss: 0.2361, Accuracy: 88%\n",
      "\n",
      "Epoch: 9\n"
     ]
    },
    {
     "name": "stderr",
     "output_type": "stream",
     "text": [
      "100%|██████████| 938/938 [00:18<00:00, 50.25it/s]\n"
     ]
    },
    {
     "name": "stdout",
     "output_type": "stream",
     "text": [
      "\n",
      "Train set: Average loss: 0.0764, Accuracy: 91%\n",
      "Test set: Average loss: 0.2576, Accuracy: 89%\n",
      "\n",
      "Epoch: 10\n"
     ]
    },
    {
     "name": "stderr",
     "output_type": "stream",
     "text": [
      "100%|██████████| 938/938 [00:20<00:00, 46.52it/s]\n"
     ]
    },
    {
     "name": "stdout",
     "output_type": "stream",
     "text": [
      "\n",
      "Train set: Average loss: 0.2856, Accuracy: 92%\n",
      "Test set: Average loss: 0.2234, Accuracy: 89%\n",
      "Training is end!\n"
     ]
    }
   ],
   "source": [
    "main(model)"
   ]
  },
  {
   "cell_type": "markdown",
   "metadata": {},
   "source": [
    "нейронная сеть из 5 скрытых слоев (256, 128, 128, 64, 43) показал идентичный результат как и сеть из 2 скрытых слоев (256, 128)"
   ]
  },
  {
   "cell_type": "code",
   "execution_count": null,
   "metadata": {},
   "outputs": [],
   "source": []
  }
 ],
 "metadata": {
  "accelerator": "GPU",
  "colab": {
   "provenance": []
  },
  "gpuClass": "standard",
  "kernelspec": {
   "display_name": "Python 3 (ipykernel)",
   "language": "python",
   "name": "python3"
  },
  "language_info": {
   "codemirror_mode": {
    "name": "ipython",
    "version": 3
   },
   "file_extension": ".py",
   "mimetype": "text/x-python",
   "name": "python",
   "nbconvert_exporter": "python",
   "pygments_lexer": "ipython3",
   "version": "3.9.7"
  },
  "widgets": {
   "application/vnd.jupyter.widget-state+json": {
    "03c69a7a5d12421f9aa500c07e3da3de": {
     "model_module": "@jupyter-widgets/controls",
     "model_module_version": "1.5.0",
     "model_name": "ProgressStyleModel",
     "state": {
      "_model_module": "@jupyter-widgets/controls",
      "_model_module_version": "1.5.0",
      "_model_name": "ProgressStyleModel",
      "_view_count": null,
      "_view_module": "@jupyter-widgets/base",
      "_view_module_version": "1.2.0",
      "_view_name": "StyleView",
      "bar_color": null,
      "description_width": ""
     }
    },
    "04f3207505394d6a84b619ffeb553c16": {
     "model_module": "@jupyter-widgets/base",
     "model_module_version": "1.2.0",
     "model_name": "LayoutModel",
     "state": {
      "_model_module": "@jupyter-widgets/base",
      "_model_module_version": "1.2.0",
      "_model_name": "LayoutModel",
      "_view_count": null,
      "_view_module": "@jupyter-widgets/base",
      "_view_module_version": "1.2.0",
      "_view_name": "LayoutView",
      "align_content": null,
      "align_items": null,
      "align_self": null,
      "border": null,
      "bottom": null,
      "display": null,
      "flex": null,
      "flex_flow": null,
      "grid_area": null,
      "grid_auto_columns": null,
      "grid_auto_flow": null,
      "grid_auto_rows": null,
      "grid_column": null,
      "grid_gap": null,
      "grid_row": null,
      "grid_template_areas": null,
      "grid_template_columns": null,
      "grid_template_rows": null,
      "height": null,
      "justify_content": null,
      "justify_items": null,
      "left": null,
      "margin": null,
      "max_height": null,
      "max_width": null,
      "min_height": null,
      "min_width": null,
      "object_fit": null,
      "object_position": null,
      "order": null,
      "overflow": null,
      "overflow_x": null,
      "overflow_y": null,
      "padding": null,
      "right": null,
      "top": null,
      "visibility": null,
      "width": null
     }
    },
    "078b58bc74ae462089b5f6f14e7b214a": {
     "model_module": "@jupyter-widgets/base",
     "model_module_version": "1.2.0",
     "model_name": "LayoutModel",
     "state": {
      "_model_module": "@jupyter-widgets/base",
      "_model_module_version": "1.2.0",
      "_model_name": "LayoutModel",
      "_view_count": null,
      "_view_module": "@jupyter-widgets/base",
      "_view_module_version": "1.2.0",
      "_view_name": "LayoutView",
      "align_content": null,
      "align_items": null,
      "align_self": null,
      "border": null,
      "bottom": null,
      "display": null,
      "flex": null,
      "flex_flow": null,
      "grid_area": null,
      "grid_auto_columns": null,
      "grid_auto_flow": null,
      "grid_auto_rows": null,
      "grid_column": null,
      "grid_gap": null,
      "grid_row": null,
      "grid_template_areas": null,
      "grid_template_columns": null,
      "grid_template_rows": null,
      "height": null,
      "justify_content": null,
      "justify_items": null,
      "left": null,
      "margin": null,
      "max_height": null,
      "max_width": null,
      "min_height": null,
      "min_width": null,
      "object_fit": null,
      "object_position": null,
      "order": null,
      "overflow": null,
      "overflow_x": null,
      "overflow_y": null,
      "padding": null,
      "right": null,
      "top": null,
      "visibility": null,
      "width": null
     }
    },
    "0b0712703cbf4a7084fd2a3cc6af50e7": {
     "model_module": "@jupyter-widgets/controls",
     "model_module_version": "1.5.0",
     "model_name": "HTMLModel",
     "state": {
      "_dom_classes": [],
      "_model_module": "@jupyter-widgets/controls",
      "_model_module_version": "1.5.0",
      "_model_name": "HTMLModel",
      "_view_count": null,
      "_view_module": "@jupyter-widgets/controls",
      "_view_module_version": "1.5.0",
      "_view_name": "HTMLView",
      "description": "",
      "description_tooltip": null,
      "layout": "IPY_MODEL_04f3207505394d6a84b619ffeb553c16",
      "placeholder": "​",
      "style": "IPY_MODEL_2a13e0a9c74346259c543798303bb0bd",
      "value": " 4422102/4422102 [00:00&lt;00:00, 53989439.74it/s]"
     }
    },
    "0ffb5b37baec47378e6a3bc8de48637d": {
     "model_module": "@jupyter-widgets/controls",
     "model_module_version": "1.5.0",
     "model_name": "DescriptionStyleModel",
     "state": {
      "_model_module": "@jupyter-widgets/controls",
      "_model_module_version": "1.5.0",
      "_model_name": "DescriptionStyleModel",
      "_view_count": null,
      "_view_module": "@jupyter-widgets/base",
      "_view_module_version": "1.2.0",
      "_view_name": "StyleView",
      "description_width": ""
     }
    },
    "13008e863cfd4a7bb37104a43929c2ec": {
     "model_module": "@jupyter-widgets/controls",
     "model_module_version": "1.5.0",
     "model_name": "ProgressStyleModel",
     "state": {
      "_model_module": "@jupyter-widgets/controls",
      "_model_module_version": "1.5.0",
      "_model_name": "ProgressStyleModel",
      "_view_count": null,
      "_view_module": "@jupyter-widgets/base",
      "_view_module_version": "1.2.0",
      "_view_name": "StyleView",
      "bar_color": null,
      "description_width": ""
     }
    },
    "1404586577064ac39c3aca60bc22fdfa": {
     "model_module": "@jupyter-widgets/controls",
     "model_module_version": "1.5.0",
     "model_name": "HBoxModel",
     "state": {
      "_dom_classes": [],
      "_model_module": "@jupyter-widgets/controls",
      "_model_module_version": "1.5.0",
      "_model_name": "HBoxModel",
      "_view_count": null,
      "_view_module": "@jupyter-widgets/controls",
      "_view_module_version": "1.5.0",
      "_view_name": "HBoxView",
      "box_style": "",
      "children": [
       "IPY_MODEL_f4353bdca8a84c4cb856a70fb457cb0c",
       "IPY_MODEL_3423293a5e9240a6b06035c4ce1e39e3",
       "IPY_MODEL_53740d0f8ff84d3eaaa47805d29fc185"
      ],
      "layout": "IPY_MODEL_9502536b161c45f89f0e6dfbac6eede1"
     }
    },
    "24f3de27786a4c0a96211e98f3f6de21": {
     "model_module": "@jupyter-widgets/controls",
     "model_module_version": "1.5.0",
     "model_name": "DescriptionStyleModel",
     "state": {
      "_model_module": "@jupyter-widgets/controls",
      "_model_module_version": "1.5.0",
      "_model_name": "DescriptionStyleModel",
      "_view_count": null,
      "_view_module": "@jupyter-widgets/base",
      "_view_module_version": "1.2.0",
      "_view_name": "StyleView",
      "description_width": ""
     }
    },
    "260271b63a2645bfb94690b666a01bc5": {
     "model_module": "@jupyter-widgets/controls",
     "model_module_version": "1.5.0",
     "model_name": "HBoxModel",
     "state": {
      "_dom_classes": [],
      "_model_module": "@jupyter-widgets/controls",
      "_model_module_version": "1.5.0",
      "_model_name": "HBoxModel",
      "_view_count": null,
      "_view_module": "@jupyter-widgets/controls",
      "_view_module_version": "1.5.0",
      "_view_name": "HBoxView",
      "box_style": "",
      "children": [
       "IPY_MODEL_f40d574c77b7409495554a60923951d9",
       "IPY_MODEL_ed41341c970c46508970a4edd6846b79",
       "IPY_MODEL_0b0712703cbf4a7084fd2a3cc6af50e7"
      ],
      "layout": "IPY_MODEL_6d126ed06f1040d784b18b3c8e9cb22d"
     }
    },
    "2a13e0a9c74346259c543798303bb0bd": {
     "model_module": "@jupyter-widgets/controls",
     "model_module_version": "1.5.0",
     "model_name": "DescriptionStyleModel",
     "state": {
      "_model_module": "@jupyter-widgets/controls",
      "_model_module_version": "1.5.0",
      "_model_name": "DescriptionStyleModel",
      "_view_count": null,
      "_view_module": "@jupyter-widgets/base",
      "_view_module_version": "1.2.0",
      "_view_name": "StyleView",
      "description_width": ""
     }
    },
    "3423293a5e9240a6b06035c4ce1e39e3": {
     "model_module": "@jupyter-widgets/controls",
     "model_module_version": "1.5.0",
     "model_name": "FloatProgressModel",
     "state": {
      "_dom_classes": [],
      "_model_module": "@jupyter-widgets/controls",
      "_model_module_version": "1.5.0",
      "_model_name": "FloatProgressModel",
      "_view_count": null,
      "_view_module": "@jupyter-widgets/controls",
      "_view_module_version": "1.5.0",
      "_view_name": "ProgressView",
      "bar_style": "success",
      "description": "",
      "description_tooltip": null,
      "layout": "IPY_MODEL_410192f78d3e46bbb8762c35787bf13d",
      "max": 26421880,
      "min": 0,
      "orientation": "horizontal",
      "style": "IPY_MODEL_13008e863cfd4a7bb37104a43929c2ec",
      "value": 26421880
     }
    },
    "410192f78d3e46bbb8762c35787bf13d": {
     "model_module": "@jupyter-widgets/base",
     "model_module_version": "1.2.0",
     "model_name": "LayoutModel",
     "state": {
      "_model_module": "@jupyter-widgets/base",
      "_model_module_version": "1.2.0",
      "_model_name": "LayoutModel",
      "_view_count": null,
      "_view_module": "@jupyter-widgets/base",
      "_view_module_version": "1.2.0",
      "_view_name": "LayoutView",
      "align_content": null,
      "align_items": null,
      "align_self": null,
      "border": null,
      "bottom": null,
      "display": null,
      "flex": null,
      "flex_flow": null,
      "grid_area": null,
      "grid_auto_columns": null,
      "grid_auto_flow": null,
      "grid_auto_rows": null,
      "grid_column": null,
      "grid_gap": null,
      "grid_row": null,
      "grid_template_areas": null,
      "grid_template_columns": null,
      "grid_template_rows": null,
      "height": null,
      "justify_content": null,
      "justify_items": null,
      "left": null,
      "margin": null,
      "max_height": null,
      "max_width": null,
      "min_height": null,
      "min_width": null,
      "object_fit": null,
      "object_position": null,
      "order": null,
      "overflow": null,
      "overflow_x": null,
      "overflow_y": null,
      "padding": null,
      "right": null,
      "top": null,
      "visibility": null,
      "width": null
     }
    },
    "4981f159d57b45e28ac87127ec93196e": {
     "model_module": "@jupyter-widgets/controls",
     "model_module_version": "1.5.0",
     "model_name": "DescriptionStyleModel",
     "state": {
      "_model_module": "@jupyter-widgets/controls",
      "_model_module_version": "1.5.0",
      "_model_name": "DescriptionStyleModel",
      "_view_count": null,
      "_view_module": "@jupyter-widgets/base",
      "_view_module_version": "1.2.0",
      "_view_name": "StyleView",
      "description_width": ""
     }
    },
    "4f32f08573be44b5901cf1753065c4fe": {
     "model_module": "@jupyter-widgets/base",
     "model_module_version": "1.2.0",
     "model_name": "LayoutModel",
     "state": {
      "_model_module": "@jupyter-widgets/base",
      "_model_module_version": "1.2.0",
      "_model_name": "LayoutModel",
      "_view_count": null,
      "_view_module": "@jupyter-widgets/base",
      "_view_module_version": "1.2.0",
      "_view_name": "LayoutView",
      "align_content": null,
      "align_items": null,
      "align_self": null,
      "border": null,
      "bottom": null,
      "display": null,
      "flex": null,
      "flex_flow": null,
      "grid_area": null,
      "grid_auto_columns": null,
      "grid_auto_flow": null,
      "grid_auto_rows": null,
      "grid_column": null,
      "grid_gap": null,
      "grid_row": null,
      "grid_template_areas": null,
      "grid_template_columns": null,
      "grid_template_rows": null,
      "height": null,
      "justify_content": null,
      "justify_items": null,
      "left": null,
      "margin": null,
      "max_height": null,
      "max_width": null,
      "min_height": null,
      "min_width": null,
      "object_fit": null,
      "object_position": null,
      "order": null,
      "overflow": null,
      "overflow_x": null,
      "overflow_y": null,
      "padding": null,
      "right": null,
      "top": null,
      "visibility": null,
      "width": null
     }
    },
    "53740d0f8ff84d3eaaa47805d29fc185": {
     "model_module": "@jupyter-widgets/controls",
     "model_module_version": "1.5.0",
     "model_name": "HTMLModel",
     "state": {
      "_dom_classes": [],
      "_model_module": "@jupyter-widgets/controls",
      "_model_module_version": "1.5.0",
      "_model_name": "HTMLModel",
      "_view_count": null,
      "_view_module": "@jupyter-widgets/controls",
      "_view_module_version": "1.5.0",
      "_view_name": "HTMLView",
      "description": "",
      "description_tooltip": null,
      "layout": "IPY_MODEL_5eb52c56c3334ac3915aee8616ddedb1",
      "placeholder": "​",
      "style": "IPY_MODEL_24f3de27786a4c0a96211e98f3f6de21",
      "value": " 26421880/26421880 [00:00&lt;00:00, 120196346.34it/s]"
     }
    },
    "54160fd1c6b64563a9702f5cb01a1e61": {
     "model_module": "@jupyter-widgets/controls",
     "model_module_version": "1.5.0",
     "model_name": "HTMLModel",
     "state": {
      "_dom_classes": [],
      "_model_module": "@jupyter-widgets/controls",
      "_model_module_version": "1.5.0",
      "_model_name": "HTMLModel",
      "_view_count": null,
      "_view_module": "@jupyter-widgets/controls",
      "_view_module_version": "1.5.0",
      "_view_name": "HTMLView",
      "description": "",
      "description_tooltip": null,
      "layout": "IPY_MODEL_781d551e0abd476c9f39a5bb56a2eca3",
      "placeholder": "​",
      "style": "IPY_MODEL_0ffb5b37baec47378e6a3bc8de48637d",
      "value": " 5148/5148 [00:00&lt;00:00, 296218.80it/s]"
     }
    },
    "5d0549499a664bafaf871b0583cd92ca": {
     "model_module": "@jupyter-widgets/controls",
     "model_module_version": "1.5.0",
     "model_name": "HTMLModel",
     "state": {
      "_dom_classes": [],
      "_model_module": "@jupyter-widgets/controls",
      "_model_module_version": "1.5.0",
      "_model_name": "HTMLModel",
      "_view_count": null,
      "_view_module": "@jupyter-widgets/controls",
      "_view_module_version": "1.5.0",
      "_view_name": "HTMLView",
      "description": "",
      "description_tooltip": null,
      "layout": "IPY_MODEL_6278e2dcc4624374b57a9dc6f8202fa7",
      "placeholder": "​",
      "style": "IPY_MODEL_66d50b2a1af242e39aa10ee608c14e96",
      "value": "100%"
     }
    },
    "5eb52c56c3334ac3915aee8616ddedb1": {
     "model_module": "@jupyter-widgets/base",
     "model_module_version": "1.2.0",
     "model_name": "LayoutModel",
     "state": {
      "_model_module": "@jupyter-widgets/base",
      "_model_module_version": "1.2.0",
      "_model_name": "LayoutModel",
      "_view_count": null,
      "_view_module": "@jupyter-widgets/base",
      "_view_module_version": "1.2.0",
      "_view_name": "LayoutView",
      "align_content": null,
      "align_items": null,
      "align_self": null,
      "border": null,
      "bottom": null,
      "display": null,
      "flex": null,
      "flex_flow": null,
      "grid_area": null,
      "grid_auto_columns": null,
      "grid_auto_flow": null,
      "grid_auto_rows": null,
      "grid_column": null,
      "grid_gap": null,
      "grid_row": null,
      "grid_template_areas": null,
      "grid_template_columns": null,
      "grid_template_rows": null,
      "height": null,
      "justify_content": null,
      "justify_items": null,
      "left": null,
      "margin": null,
      "max_height": null,
      "max_width": null,
      "min_height": null,
      "min_width": null,
      "object_fit": null,
      "object_position": null,
      "order": null,
      "overflow": null,
      "overflow_x": null,
      "overflow_y": null,
      "padding": null,
      "right": null,
      "top": null,
      "visibility": null,
      "width": null
     }
    },
    "6278e2dcc4624374b57a9dc6f8202fa7": {
     "model_module": "@jupyter-widgets/base",
     "model_module_version": "1.2.0",
     "model_name": "LayoutModel",
     "state": {
      "_model_module": "@jupyter-widgets/base",
      "_model_module_version": "1.2.0",
      "_model_name": "LayoutModel",
      "_view_count": null,
      "_view_module": "@jupyter-widgets/base",
      "_view_module_version": "1.2.0",
      "_view_name": "LayoutView",
      "align_content": null,
      "align_items": null,
      "align_self": null,
      "border": null,
      "bottom": null,
      "display": null,
      "flex": null,
      "flex_flow": null,
      "grid_area": null,
      "grid_auto_columns": null,
      "grid_auto_flow": null,
      "grid_auto_rows": null,
      "grid_column": null,
      "grid_gap": null,
      "grid_row": null,
      "grid_template_areas": null,
      "grid_template_columns": null,
      "grid_template_rows": null,
      "height": null,
      "justify_content": null,
      "justify_items": null,
      "left": null,
      "margin": null,
      "max_height": null,
      "max_width": null,
      "min_height": null,
      "min_width": null,
      "object_fit": null,
      "object_position": null,
      "order": null,
      "overflow": null,
      "overflow_x": null,
      "overflow_y": null,
      "padding": null,
      "right": null,
      "top": null,
      "visibility": null,
      "width": null
     }
    },
    "65fc1f331b6244de96070e8922b2ec56": {
     "model_module": "@jupyter-widgets/controls",
     "model_module_version": "1.5.0",
     "model_name": "DescriptionStyleModel",
     "state": {
      "_model_module": "@jupyter-widgets/controls",
      "_model_module_version": "1.5.0",
      "_model_name": "DescriptionStyleModel",
      "_view_count": null,
      "_view_module": "@jupyter-widgets/base",
      "_view_module_version": "1.2.0",
      "_view_name": "StyleView",
      "description_width": ""
     }
    },
    "66d50b2a1af242e39aa10ee608c14e96": {
     "model_module": "@jupyter-widgets/controls",
     "model_module_version": "1.5.0",
     "model_name": "DescriptionStyleModel",
     "state": {
      "_model_module": "@jupyter-widgets/controls",
      "_model_module_version": "1.5.0",
      "_model_name": "DescriptionStyleModel",
      "_view_count": null,
      "_view_module": "@jupyter-widgets/base",
      "_view_module_version": "1.2.0",
      "_view_name": "StyleView",
      "description_width": ""
     }
    },
    "682f74c03e704a08bcd65a497b27765c": {
     "model_module": "@jupyter-widgets/base",
     "model_module_version": "1.2.0",
     "model_name": "LayoutModel",
     "state": {
      "_model_module": "@jupyter-widgets/base",
      "_model_module_version": "1.2.0",
      "_model_name": "LayoutModel",
      "_view_count": null,
      "_view_module": "@jupyter-widgets/base",
      "_view_module_version": "1.2.0",
      "_view_name": "LayoutView",
      "align_content": null,
      "align_items": null,
      "align_self": null,
      "border": null,
      "bottom": null,
      "display": null,
      "flex": null,
      "flex_flow": null,
      "grid_area": null,
      "grid_auto_columns": null,
      "grid_auto_flow": null,
      "grid_auto_rows": null,
      "grid_column": null,
      "grid_gap": null,
      "grid_row": null,
      "grid_template_areas": null,
      "grid_template_columns": null,
      "grid_template_rows": null,
      "height": null,
      "justify_content": null,
      "justify_items": null,
      "left": null,
      "margin": null,
      "max_height": null,
      "max_width": null,
      "min_height": null,
      "min_width": null,
      "object_fit": null,
      "object_position": null,
      "order": null,
      "overflow": null,
      "overflow_x": null,
      "overflow_y": null,
      "padding": null,
      "right": null,
      "top": null,
      "visibility": null,
      "width": null
     }
    },
    "68fd6008d04e407ea63b2e26fd708d74": {
     "model_module": "@jupyter-widgets/controls",
     "model_module_version": "1.5.0",
     "model_name": "FloatProgressModel",
     "state": {
      "_dom_classes": [],
      "_model_module": "@jupyter-widgets/controls",
      "_model_module_version": "1.5.0",
      "_model_name": "FloatProgressModel",
      "_view_count": null,
      "_view_module": "@jupyter-widgets/controls",
      "_view_module_version": "1.5.0",
      "_view_name": "ProgressView",
      "bar_style": "success",
      "description": "",
      "description_tooltip": null,
      "layout": "IPY_MODEL_96908fea4073438ab43fddf2e179d57a",
      "max": 29515,
      "min": 0,
      "orientation": "horizontal",
      "style": "IPY_MODEL_c02ffb68b2f54551a7fbd76a3db63ff5",
      "value": 29515
     }
    },
    "6d126ed06f1040d784b18b3c8e9cb22d": {
     "model_module": "@jupyter-widgets/base",
     "model_module_version": "1.2.0",
     "model_name": "LayoutModel",
     "state": {
      "_model_module": "@jupyter-widgets/base",
      "_model_module_version": "1.2.0",
      "_model_name": "LayoutModel",
      "_view_count": null,
      "_view_module": "@jupyter-widgets/base",
      "_view_module_version": "1.2.0",
      "_view_name": "LayoutView",
      "align_content": null,
      "align_items": null,
      "align_self": null,
      "border": null,
      "bottom": null,
      "display": null,
      "flex": null,
      "flex_flow": null,
      "grid_area": null,
      "grid_auto_columns": null,
      "grid_auto_flow": null,
      "grid_auto_rows": null,
      "grid_column": null,
      "grid_gap": null,
      "grid_row": null,
      "grid_template_areas": null,
      "grid_template_columns": null,
      "grid_template_rows": null,
      "height": null,
      "justify_content": null,
      "justify_items": null,
      "left": null,
      "margin": null,
      "max_height": null,
      "max_width": null,
      "min_height": null,
      "min_width": null,
      "object_fit": null,
      "object_position": null,
      "order": null,
      "overflow": null,
      "overflow_x": null,
      "overflow_y": null,
      "padding": null,
      "right": null,
      "top": null,
      "visibility": null,
      "width": null
     }
    },
    "781d551e0abd476c9f39a5bb56a2eca3": {
     "model_module": "@jupyter-widgets/base",
     "model_module_version": "1.2.0",
     "model_name": "LayoutModel",
     "state": {
      "_model_module": "@jupyter-widgets/base",
      "_model_module_version": "1.2.0",
      "_model_name": "LayoutModel",
      "_view_count": null,
      "_view_module": "@jupyter-widgets/base",
      "_view_module_version": "1.2.0",
      "_view_name": "LayoutView",
      "align_content": null,
      "align_items": null,
      "align_self": null,
      "border": null,
      "bottom": null,
      "display": null,
      "flex": null,
      "flex_flow": null,
      "grid_area": null,
      "grid_auto_columns": null,
      "grid_auto_flow": null,
      "grid_auto_rows": null,
      "grid_column": null,
      "grid_gap": null,
      "grid_row": null,
      "grid_template_areas": null,
      "grid_template_columns": null,
      "grid_template_rows": null,
      "height": null,
      "justify_content": null,
      "justify_items": null,
      "left": null,
      "margin": null,
      "max_height": null,
      "max_width": null,
      "min_height": null,
      "min_width": null,
      "object_fit": null,
      "object_position": null,
      "order": null,
      "overflow": null,
      "overflow_x": null,
      "overflow_y": null,
      "padding": null,
      "right": null,
      "top": null,
      "visibility": null,
      "width": null
     }
    },
    "847a03d3f0944e65bd3a80a2d1397556": {
     "model_module": "@jupyter-widgets/controls",
     "model_module_version": "1.5.0",
     "model_name": "HTMLModel",
     "state": {
      "_dom_classes": [],
      "_model_module": "@jupyter-widgets/controls",
      "_model_module_version": "1.5.0",
      "_model_name": "HTMLModel",
      "_view_count": null,
      "_view_module": "@jupyter-widgets/controls",
      "_view_module_version": "1.5.0",
      "_view_name": "HTMLView",
      "description": "",
      "description_tooltip": null,
      "layout": "IPY_MODEL_a226aab6a5e14cdeab04c2035cba4067",
      "placeholder": "​",
      "style": "IPY_MODEL_4981f159d57b45e28ac87127ec93196e",
      "value": " 29515/29515 [00:00&lt;00:00, 916686.78it/s]"
     }
    },
    "9502536b161c45f89f0e6dfbac6eede1": {
     "model_module": "@jupyter-widgets/base",
     "model_module_version": "1.2.0",
     "model_name": "LayoutModel",
     "state": {
      "_model_module": "@jupyter-widgets/base",
      "_model_module_version": "1.2.0",
      "_model_name": "LayoutModel",
      "_view_count": null,
      "_view_module": "@jupyter-widgets/base",
      "_view_module_version": "1.2.0",
      "_view_name": "LayoutView",
      "align_content": null,
      "align_items": null,
      "align_self": null,
      "border": null,
      "bottom": null,
      "display": null,
      "flex": null,
      "flex_flow": null,
      "grid_area": null,
      "grid_auto_columns": null,
      "grid_auto_flow": null,
      "grid_auto_rows": null,
      "grid_column": null,
      "grid_gap": null,
      "grid_row": null,
      "grid_template_areas": null,
      "grid_template_columns": null,
      "grid_template_rows": null,
      "height": null,
      "justify_content": null,
      "justify_items": null,
      "left": null,
      "margin": null,
      "max_height": null,
      "max_width": null,
      "min_height": null,
      "min_width": null,
      "object_fit": null,
      "object_position": null,
      "order": null,
      "overflow": null,
      "overflow_x": null,
      "overflow_y": null,
      "padding": null,
      "right": null,
      "top": null,
      "visibility": null,
      "width": null
     }
    },
    "96908fea4073438ab43fddf2e179d57a": {
     "model_module": "@jupyter-widgets/base",
     "model_module_version": "1.2.0",
     "model_name": "LayoutModel",
     "state": {
      "_model_module": "@jupyter-widgets/base",
      "_model_module_version": "1.2.0",
      "_model_name": "LayoutModel",
      "_view_count": null,
      "_view_module": "@jupyter-widgets/base",
      "_view_module_version": "1.2.0",
      "_view_name": "LayoutView",
      "align_content": null,
      "align_items": null,
      "align_self": null,
      "border": null,
      "bottom": null,
      "display": null,
      "flex": null,
      "flex_flow": null,
      "grid_area": null,
      "grid_auto_columns": null,
      "grid_auto_flow": null,
      "grid_auto_rows": null,
      "grid_column": null,
      "grid_gap": null,
      "grid_row": null,
      "grid_template_areas": null,
      "grid_template_columns": null,
      "grid_template_rows": null,
      "height": null,
      "justify_content": null,
      "justify_items": null,
      "left": null,
      "margin": null,
      "max_height": null,
      "max_width": null,
      "min_height": null,
      "min_width": null,
      "object_fit": null,
      "object_position": null,
      "order": null,
      "overflow": null,
      "overflow_x": null,
      "overflow_y": null,
      "padding": null,
      "right": null,
      "top": null,
      "visibility": null,
      "width": null
     }
    },
    "9b6630c18a9e4012b2edbea6a36a8bed": {
     "model_module": "@jupyter-widgets/controls",
     "model_module_version": "1.5.0",
     "model_name": "DescriptionStyleModel",
     "state": {
      "_model_module": "@jupyter-widgets/controls",
      "_model_module_version": "1.5.0",
      "_model_name": "DescriptionStyleModel",
      "_view_count": null,
      "_view_module": "@jupyter-widgets/base",
      "_view_module_version": "1.2.0",
      "_view_name": "StyleView",
      "description_width": ""
     }
    },
    "a226aab6a5e14cdeab04c2035cba4067": {
     "model_module": "@jupyter-widgets/base",
     "model_module_version": "1.2.0",
     "model_name": "LayoutModel",
     "state": {
      "_model_module": "@jupyter-widgets/base",
      "_model_module_version": "1.2.0",
      "_model_name": "LayoutModel",
      "_view_count": null,
      "_view_module": "@jupyter-widgets/base",
      "_view_module_version": "1.2.0",
      "_view_name": "LayoutView",
      "align_content": null,
      "align_items": null,
      "align_self": null,
      "border": null,
      "bottom": null,
      "display": null,
      "flex": null,
      "flex_flow": null,
      "grid_area": null,
      "grid_auto_columns": null,
      "grid_auto_flow": null,
      "grid_auto_rows": null,
      "grid_column": null,
      "grid_gap": null,
      "grid_row": null,
      "grid_template_areas": null,
      "grid_template_columns": null,
      "grid_template_rows": null,
      "height": null,
      "justify_content": null,
      "justify_items": null,
      "left": null,
      "margin": null,
      "max_height": null,
      "max_width": null,
      "min_height": null,
      "min_width": null,
      "object_fit": null,
      "object_position": null,
      "order": null,
      "overflow": null,
      "overflow_x": null,
      "overflow_y": null,
      "padding": null,
      "right": null,
      "top": null,
      "visibility": null,
      "width": null
     }
    },
    "a34172bcfa7446139937b71993f636b4": {
     "model_module": "@jupyter-widgets/controls",
     "model_module_version": "1.5.0",
     "model_name": "FloatProgressModel",
     "state": {
      "_dom_classes": [],
      "_model_module": "@jupyter-widgets/controls",
      "_model_module_version": "1.5.0",
      "_model_name": "FloatProgressModel",
      "_view_count": null,
      "_view_module": "@jupyter-widgets/controls",
      "_view_module_version": "1.5.0",
      "_view_name": "ProgressView",
      "bar_style": "success",
      "description": "",
      "description_tooltip": null,
      "layout": "IPY_MODEL_b20bf379eb784906a7fbcc82d3ca2734",
      "max": 5148,
      "min": 0,
      "orientation": "horizontal",
      "style": "IPY_MODEL_03c69a7a5d12421f9aa500c07e3da3de",
      "value": 5148
     }
    },
    "ad6d1b93d429496abbd7121a4f0b9de6": {
     "model_module": "@jupyter-widgets/controls",
     "model_module_version": "1.5.0",
     "model_name": "HBoxModel",
     "state": {
      "_dom_classes": [],
      "_model_module": "@jupyter-widgets/controls",
      "_model_module_version": "1.5.0",
      "_model_name": "HBoxModel",
      "_view_count": null,
      "_view_module": "@jupyter-widgets/controls",
      "_view_module_version": "1.5.0",
      "_view_name": "HBoxView",
      "box_style": "",
      "children": [
       "IPY_MODEL_5d0549499a664bafaf871b0583cd92ca",
       "IPY_MODEL_68fd6008d04e407ea63b2e26fd708d74",
       "IPY_MODEL_847a03d3f0944e65bd3a80a2d1397556"
      ],
      "layout": "IPY_MODEL_682f74c03e704a08bcd65a497b27765c"
     }
    },
    "afbec42e54fa4012aba3f8053e04dadc": {
     "model_module": "@jupyter-widgets/base",
     "model_module_version": "1.2.0",
     "model_name": "LayoutModel",
     "state": {
      "_model_module": "@jupyter-widgets/base",
      "_model_module_version": "1.2.0",
      "_model_name": "LayoutModel",
      "_view_count": null,
      "_view_module": "@jupyter-widgets/base",
      "_view_module_version": "1.2.0",
      "_view_name": "LayoutView",
      "align_content": null,
      "align_items": null,
      "align_self": null,
      "border": null,
      "bottom": null,
      "display": null,
      "flex": null,
      "flex_flow": null,
      "grid_area": null,
      "grid_auto_columns": null,
      "grid_auto_flow": null,
      "grid_auto_rows": null,
      "grid_column": null,
      "grid_gap": null,
      "grid_row": null,
      "grid_template_areas": null,
      "grid_template_columns": null,
      "grid_template_rows": null,
      "height": null,
      "justify_content": null,
      "justify_items": null,
      "left": null,
      "margin": null,
      "max_height": null,
      "max_width": null,
      "min_height": null,
      "min_width": null,
      "object_fit": null,
      "object_position": null,
      "order": null,
      "overflow": null,
      "overflow_x": null,
      "overflow_y": null,
      "padding": null,
      "right": null,
      "top": null,
      "visibility": null,
      "width": null
     }
    },
    "b20bf379eb784906a7fbcc82d3ca2734": {
     "model_module": "@jupyter-widgets/base",
     "model_module_version": "1.2.0",
     "model_name": "LayoutModel",
     "state": {
      "_model_module": "@jupyter-widgets/base",
      "_model_module_version": "1.2.0",
      "_model_name": "LayoutModel",
      "_view_count": null,
      "_view_module": "@jupyter-widgets/base",
      "_view_module_version": "1.2.0",
      "_view_name": "LayoutView",
      "align_content": null,
      "align_items": null,
      "align_self": null,
      "border": null,
      "bottom": null,
      "display": null,
      "flex": null,
      "flex_flow": null,
      "grid_area": null,
      "grid_auto_columns": null,
      "grid_auto_flow": null,
      "grid_auto_rows": null,
      "grid_column": null,
      "grid_gap": null,
      "grid_row": null,
      "grid_template_areas": null,
      "grid_template_columns": null,
      "grid_template_rows": null,
      "height": null,
      "justify_content": null,
      "justify_items": null,
      "left": null,
      "margin": null,
      "max_height": null,
      "max_width": null,
      "min_height": null,
      "min_width": null,
      "object_fit": null,
      "object_position": null,
      "order": null,
      "overflow": null,
      "overflow_x": null,
      "overflow_y": null,
      "padding": null,
      "right": null,
      "top": null,
      "visibility": null,
      "width": null
     }
    },
    "b3c299a1f1e04909bbb63b6148551758": {
     "model_module": "@jupyter-widgets/controls",
     "model_module_version": "1.5.0",
     "model_name": "HTMLModel",
     "state": {
      "_dom_classes": [],
      "_model_module": "@jupyter-widgets/controls",
      "_model_module_version": "1.5.0",
      "_model_name": "HTMLModel",
      "_view_count": null,
      "_view_module": "@jupyter-widgets/controls",
      "_view_module_version": "1.5.0",
      "_view_name": "HTMLView",
      "description": "",
      "description_tooltip": null,
      "layout": "IPY_MODEL_4f32f08573be44b5901cf1753065c4fe",
      "placeholder": "​",
      "style": "IPY_MODEL_65fc1f331b6244de96070e8922b2ec56",
      "value": "100%"
     }
    },
    "c02ffb68b2f54551a7fbd76a3db63ff5": {
     "model_module": "@jupyter-widgets/controls",
     "model_module_version": "1.5.0",
     "model_name": "ProgressStyleModel",
     "state": {
      "_model_module": "@jupyter-widgets/controls",
      "_model_module_version": "1.5.0",
      "_model_name": "ProgressStyleModel",
      "_view_count": null,
      "_view_module": "@jupyter-widgets/base",
      "_view_module_version": "1.2.0",
      "_view_name": "StyleView",
      "bar_color": null,
      "description_width": ""
     }
    },
    "c1dc10497897440fa28ab38fb2569303": {
     "model_module": "@jupyter-widgets/base",
     "model_module_version": "1.2.0",
     "model_name": "LayoutModel",
     "state": {
      "_model_module": "@jupyter-widgets/base",
      "_model_module_version": "1.2.0",
      "_model_name": "LayoutModel",
      "_view_count": null,
      "_view_module": "@jupyter-widgets/base",
      "_view_module_version": "1.2.0",
      "_view_name": "LayoutView",
      "align_content": null,
      "align_items": null,
      "align_self": null,
      "border": null,
      "bottom": null,
      "display": null,
      "flex": null,
      "flex_flow": null,
      "grid_area": null,
      "grid_auto_columns": null,
      "grid_auto_flow": null,
      "grid_auto_rows": null,
      "grid_column": null,
      "grid_gap": null,
      "grid_row": null,
      "grid_template_areas": null,
      "grid_template_columns": null,
      "grid_template_rows": null,
      "height": null,
      "justify_content": null,
      "justify_items": null,
      "left": null,
      "margin": null,
      "max_height": null,
      "max_width": null,
      "min_height": null,
      "min_width": null,
      "object_fit": null,
      "object_position": null,
      "order": null,
      "overflow": null,
      "overflow_x": null,
      "overflow_y": null,
      "padding": null,
      "right": null,
      "top": null,
      "visibility": null,
      "width": null
     }
    },
    "c3788ca193df4dfab201a225e2b13543": {
     "model_module": "@jupyter-widgets/base",
     "model_module_version": "1.2.0",
     "model_name": "LayoutModel",
     "state": {
      "_model_module": "@jupyter-widgets/base",
      "_model_module_version": "1.2.0",
      "_model_name": "LayoutModel",
      "_view_count": null,
      "_view_module": "@jupyter-widgets/base",
      "_view_module_version": "1.2.0",
      "_view_name": "LayoutView",
      "align_content": null,
      "align_items": null,
      "align_self": null,
      "border": null,
      "bottom": null,
      "display": null,
      "flex": null,
      "flex_flow": null,
      "grid_area": null,
      "grid_auto_columns": null,
      "grid_auto_flow": null,
      "grid_auto_rows": null,
      "grid_column": null,
      "grid_gap": null,
      "grid_row": null,
      "grid_template_areas": null,
      "grid_template_columns": null,
      "grid_template_rows": null,
      "height": null,
      "justify_content": null,
      "justify_items": null,
      "left": null,
      "margin": null,
      "max_height": null,
      "max_width": null,
      "min_height": null,
      "min_width": null,
      "object_fit": null,
      "object_position": null,
      "order": null,
      "overflow": null,
      "overflow_x": null,
      "overflow_y": null,
      "padding": null,
      "right": null,
      "top": null,
      "visibility": null,
      "width": null
     }
    },
    "cad6583d2cfa4456af83644efb902d32": {
     "model_module": "@jupyter-widgets/controls",
     "model_module_version": "1.5.0",
     "model_name": "ProgressStyleModel",
     "state": {
      "_model_module": "@jupyter-widgets/controls",
      "_model_module_version": "1.5.0",
      "_model_name": "ProgressStyleModel",
      "_view_count": null,
      "_view_module": "@jupyter-widgets/base",
      "_view_module_version": "1.2.0",
      "_view_name": "StyleView",
      "bar_color": null,
      "description_width": ""
     }
    },
    "ed41341c970c46508970a4edd6846b79": {
     "model_module": "@jupyter-widgets/controls",
     "model_module_version": "1.5.0",
     "model_name": "FloatProgressModel",
     "state": {
      "_dom_classes": [],
      "_model_module": "@jupyter-widgets/controls",
      "_model_module_version": "1.5.0",
      "_model_name": "FloatProgressModel",
      "_view_count": null,
      "_view_module": "@jupyter-widgets/controls",
      "_view_module_version": "1.5.0",
      "_view_name": "ProgressView",
      "bar_style": "success",
      "description": "",
      "description_tooltip": null,
      "layout": "IPY_MODEL_078b58bc74ae462089b5f6f14e7b214a",
      "max": 4422102,
      "min": 0,
      "orientation": "horizontal",
      "style": "IPY_MODEL_cad6583d2cfa4456af83644efb902d32",
      "value": 4422102
     }
    },
    "f0a4baaaaf4540eba29c36c63f4078ab": {
     "model_module": "@jupyter-widgets/controls",
     "model_module_version": "1.5.0",
     "model_name": "HBoxModel",
     "state": {
      "_dom_classes": [],
      "_model_module": "@jupyter-widgets/controls",
      "_model_module_version": "1.5.0",
      "_model_name": "HBoxModel",
      "_view_count": null,
      "_view_module": "@jupyter-widgets/controls",
      "_view_module_version": "1.5.0",
      "_view_name": "HBoxView",
      "box_style": "",
      "children": [
       "IPY_MODEL_b3c299a1f1e04909bbb63b6148551758",
       "IPY_MODEL_a34172bcfa7446139937b71993f636b4",
       "IPY_MODEL_54160fd1c6b64563a9702f5cb01a1e61"
      ],
      "layout": "IPY_MODEL_c1dc10497897440fa28ab38fb2569303"
     }
    },
    "f40d574c77b7409495554a60923951d9": {
     "model_module": "@jupyter-widgets/controls",
     "model_module_version": "1.5.0",
     "model_name": "HTMLModel",
     "state": {
      "_dom_classes": [],
      "_model_module": "@jupyter-widgets/controls",
      "_model_module_version": "1.5.0",
      "_model_name": "HTMLModel",
      "_view_count": null,
      "_view_module": "@jupyter-widgets/controls",
      "_view_module_version": "1.5.0",
      "_view_name": "HTMLView",
      "description": "",
      "description_tooltip": null,
      "layout": "IPY_MODEL_c3788ca193df4dfab201a225e2b13543",
      "placeholder": "​",
      "style": "IPY_MODEL_9b6630c18a9e4012b2edbea6a36a8bed",
      "value": "100%"
     }
    },
    "f4353bdca8a84c4cb856a70fb457cb0c": {
     "model_module": "@jupyter-widgets/controls",
     "model_module_version": "1.5.0",
     "model_name": "HTMLModel",
     "state": {
      "_dom_classes": [],
      "_model_module": "@jupyter-widgets/controls",
      "_model_module_version": "1.5.0",
      "_model_name": "HTMLModel",
      "_view_count": null,
      "_view_module": "@jupyter-widgets/controls",
      "_view_module_version": "1.5.0",
      "_view_name": "HTMLView",
      "description": "",
      "description_tooltip": null,
      "layout": "IPY_MODEL_afbec42e54fa4012aba3f8053e04dadc",
      "placeholder": "​",
      "style": "IPY_MODEL_fc8420962cc34f0faebd0d2e4cf83cee",
      "value": "100%"
     }
    },
    "fc8420962cc34f0faebd0d2e4cf83cee": {
     "model_module": "@jupyter-widgets/controls",
     "model_module_version": "1.5.0",
     "model_name": "DescriptionStyleModel",
     "state": {
      "_model_module": "@jupyter-widgets/controls",
      "_model_module_version": "1.5.0",
      "_model_name": "DescriptionStyleModel",
      "_view_count": null,
      "_view_module": "@jupyter-widgets/base",
      "_view_module_version": "1.2.0",
      "_view_name": "StyleView",
      "description_width": ""
     }
    }
   }
  }
 },
 "nbformat": 4,
 "nbformat_minor": 1
}
